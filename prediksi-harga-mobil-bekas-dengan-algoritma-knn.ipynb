{
  "metadata": {
    "kernelspec": {
      "language": "python",
      "display_name": "Python 3",
      "name": "python3"
    },
    "language_info": {
      "name": "python",
      "version": "3.7.6",
      "mimetype": "text/x-python",
      "codemirror_mode": {
        "name": "ipython",
        "version": 3
      },
      "pygments_lexer": "ipython3",
      "nbconvert_exporter": "python",
      "file_extension": ".py"
    },
    "colab": {
      "provenance": []
    }
  },
  "nbformat_minor": 0,
  "nbformat": 4,
  "cells": [
    {
      "cell_type": "markdown",
      "source": [
        "Program ini menyajikan sebuah machine learning yang digunakan untuk prediksi harga Mobil bekas\n",
        "Machine learning ini dibuat menggunakan algoritma K-Nearest Neighbors (KNN)"
      ],
      "metadata": {
        "id": "J9Ffql9uX2QE"
      }
    },
    {
      "cell_type": "markdown",
      "source": [
        "# 1. Import libraries "
      ],
      "metadata": {
        "id": "VcpybDtcX2QJ"
      }
    },
    {
      "cell_type": "code",
      "source": [
        "import pandas as pd\n",
        "import numpy as np\n",
        "import matplotlib.pyplot as plt\n",
        "import sklearn.metrics as metrics"
      ],
      "metadata": {
        "_uuid": "8f2839f25d086af736a60e9eeb907d3b93b6e0e5",
        "_cell_guid": "b1076dfc-b9ad-4769-8c92-a6c4dae69d19",
        "trusted": true,
        "id": "ndF_5lM3X2QK"
      },
      "execution_count": 1,
      "outputs": []
    },
    {
      "cell_type": "markdown",
      "source": [
        "# 2. Load data harga mobil bekas merek Toyota di UK berdasarkan lokasi data"
      ],
      "metadata": {
        "id": "V22grHLVX2QN"
      }
    },
    {
      "cell_type": "code",
      "source": [
        "data_location='/content/toyota.csv'\n",
        "row_data = pd.read_csv(data_location)\n",
        "row_data.shape"
      ],
      "metadata": {
        "_uuid": "d629ff2d2480ee46fbb7e2d37f6b5fab8052498a",
        "_cell_guid": "79c7e3d0-c299-4dcb-8224-4455121ee9b0",
        "trusted": true,
        "id": "wyD27p4LX2QN",
        "outputId": "cc057d09-f2ca-4a30-e1ee-9282fc1c7120",
        "colab": {
          "base_uri": "https://localhost:8080/"
        }
      },
      "execution_count": 2,
      "outputs": [
        {
          "output_type": "execute_result",
          "data": {
            "text/plain": [
              "(6738, 9)"
            ]
          },
          "metadata": {},
          "execution_count": 2
        }
      ]
    },
    {
      "cell_type": "code",
      "source": [
        "row_data.describe"
      ],
      "metadata": {
        "trusted": true,
        "id": "L5FPFWV6X2QO",
        "outputId": "4492b138-9ee1-48f1-d406-2b0ff8d3bd2c",
        "colab": {
          "base_uri": "https://localhost:8080/"
        }
      },
      "execution_count": 3,
      "outputs": [
        {
          "output_type": "execute_result",
          "data": {
            "text/plain": [
              "<bound method NDFrame.describe of                model  year  price transmission  mileage fuelType  tax   mpg  \\\n",
              "0               GT86  2016  16000       Manual    24089   Petrol  265  36.2   \n",
              "1               GT86  2017  15995       Manual    18615   Petrol  145  36.2   \n",
              "2               GT86  2015  13998       Manual    27469   Petrol  265  36.2   \n",
              "3               GT86  2017  18998       Manual    14736   Petrol  150  36.2   \n",
              "4               GT86  2017  17498       Manual    36284   Petrol  145  36.2   \n",
              "...              ...   ...    ...          ...      ...      ...  ...   ...   \n",
              "6733              IQ  2011   5500    Automatic    30000   Petrol   20  58.9   \n",
              "6734   Urban Cruiser  2011   4985       Manual    36154   Petrol  125  50.4   \n",
              "6735   Urban Cruiser  2012   4995       Manual    46000   Diesel  125  57.6   \n",
              "6736   Urban Cruiser  2011   3995       Manual    60700   Petrol  125  50.4   \n",
              "6737   Urban Cruiser  2011   4495       Manual    45128   Petrol  125  50.4   \n",
              "\n",
              "      engineSize  \n",
              "0            2.0  \n",
              "1            2.0  \n",
              "2            2.0  \n",
              "3            2.0  \n",
              "4            2.0  \n",
              "...          ...  \n",
              "6733         1.0  \n",
              "6734         1.3  \n",
              "6735         1.4  \n",
              "6736         1.3  \n",
              "6737         1.3  \n",
              "\n",
              "[6738 rows x 9 columns]>"
            ]
          },
          "metadata": {},
          "execution_count": 3
        }
      ]
    },
    {
      "cell_type": "markdown",
      "source": [
        "# 3. Bersihkan data yang tidak lengkap (kalau ada)"
      ],
      "metadata": {
        "id": "HpBcDGSCX2QP"
      }
    },
    {
      "cell_type": "code",
      "source": [
        "data = row_data.dropna(axis=0)\n",
        "data.describe()"
      ],
      "metadata": {
        "trusted": true,
        "id": "lTsY-m5kX2QQ",
        "outputId": "63b86303-21e1-4f0a-a9f4-851f53c1d751",
        "colab": {
          "base_uri": "https://localhost:8080/",
          "height": 300
        }
      },
      "execution_count": 4,
      "outputs": [
        {
          "output_type": "execute_result",
          "data": {
            "text/plain": [
              "              year         price        mileage          tax          mpg  \\\n",
              "count  6738.000000   6738.000000    6738.000000  6738.000000  6738.000000   \n",
              "mean   2016.748145  12522.391066   22857.413921    94.697240    63.042223   \n",
              "std       2.204062   6345.017587   19125.464147    73.880776    15.836710   \n",
              "min    1998.000000    850.000000       2.000000     0.000000     2.800000   \n",
              "25%    2016.000000   8290.000000    9446.000000     0.000000    55.400000   \n",
              "50%    2017.000000  10795.000000   18513.000000   135.000000    62.800000   \n",
              "75%    2018.000000  14995.000000   31063.750000   145.000000    69.000000   \n",
              "max    2020.000000  59995.000000  174419.000000   565.000000   235.000000   \n",
              "\n",
              "        engineSize  \n",
              "count  6738.000000  \n",
              "mean      1.471297  \n",
              "std       0.436159  \n",
              "min       0.000000  \n",
              "25%       1.000000  \n",
              "50%       1.500000  \n",
              "75%       1.800000  \n",
              "max       4.500000  "
            ],
            "text/html": [
              "\n",
              "  <div id=\"df-c5d68e60-74d1-4557-b8f7-3cfca5c604f8\">\n",
              "    <div class=\"colab-df-container\">\n",
              "      <div>\n",
              "<style scoped>\n",
              "    .dataframe tbody tr th:only-of-type {\n",
              "        vertical-align: middle;\n",
              "    }\n",
              "\n",
              "    .dataframe tbody tr th {\n",
              "        vertical-align: top;\n",
              "    }\n",
              "\n",
              "    .dataframe thead th {\n",
              "        text-align: right;\n",
              "    }\n",
              "</style>\n",
              "<table border=\"1\" class=\"dataframe\">\n",
              "  <thead>\n",
              "    <tr style=\"text-align: right;\">\n",
              "      <th></th>\n",
              "      <th>year</th>\n",
              "      <th>price</th>\n",
              "      <th>mileage</th>\n",
              "      <th>tax</th>\n",
              "      <th>mpg</th>\n",
              "      <th>engineSize</th>\n",
              "    </tr>\n",
              "  </thead>\n",
              "  <tbody>\n",
              "    <tr>\n",
              "      <th>count</th>\n",
              "      <td>6738.000000</td>\n",
              "      <td>6738.000000</td>\n",
              "      <td>6738.000000</td>\n",
              "      <td>6738.000000</td>\n",
              "      <td>6738.000000</td>\n",
              "      <td>6738.000000</td>\n",
              "    </tr>\n",
              "    <tr>\n",
              "      <th>mean</th>\n",
              "      <td>2016.748145</td>\n",
              "      <td>12522.391066</td>\n",
              "      <td>22857.413921</td>\n",
              "      <td>94.697240</td>\n",
              "      <td>63.042223</td>\n",
              "      <td>1.471297</td>\n",
              "    </tr>\n",
              "    <tr>\n",
              "      <th>std</th>\n",
              "      <td>2.204062</td>\n",
              "      <td>6345.017587</td>\n",
              "      <td>19125.464147</td>\n",
              "      <td>73.880776</td>\n",
              "      <td>15.836710</td>\n",
              "      <td>0.436159</td>\n",
              "    </tr>\n",
              "    <tr>\n",
              "      <th>min</th>\n",
              "      <td>1998.000000</td>\n",
              "      <td>850.000000</td>\n",
              "      <td>2.000000</td>\n",
              "      <td>0.000000</td>\n",
              "      <td>2.800000</td>\n",
              "      <td>0.000000</td>\n",
              "    </tr>\n",
              "    <tr>\n",
              "      <th>25%</th>\n",
              "      <td>2016.000000</td>\n",
              "      <td>8290.000000</td>\n",
              "      <td>9446.000000</td>\n",
              "      <td>0.000000</td>\n",
              "      <td>55.400000</td>\n",
              "      <td>1.000000</td>\n",
              "    </tr>\n",
              "    <tr>\n",
              "      <th>50%</th>\n",
              "      <td>2017.000000</td>\n",
              "      <td>10795.000000</td>\n",
              "      <td>18513.000000</td>\n",
              "      <td>135.000000</td>\n",
              "      <td>62.800000</td>\n",
              "      <td>1.500000</td>\n",
              "    </tr>\n",
              "    <tr>\n",
              "      <th>75%</th>\n",
              "      <td>2018.000000</td>\n",
              "      <td>14995.000000</td>\n",
              "      <td>31063.750000</td>\n",
              "      <td>145.000000</td>\n",
              "      <td>69.000000</td>\n",
              "      <td>1.800000</td>\n",
              "    </tr>\n",
              "    <tr>\n",
              "      <th>max</th>\n",
              "      <td>2020.000000</td>\n",
              "      <td>59995.000000</td>\n",
              "      <td>174419.000000</td>\n",
              "      <td>565.000000</td>\n",
              "      <td>235.000000</td>\n",
              "      <td>4.500000</td>\n",
              "    </tr>\n",
              "  </tbody>\n",
              "</table>\n",
              "</div>\n",
              "      <button class=\"colab-df-convert\" onclick=\"convertToInteractive('df-c5d68e60-74d1-4557-b8f7-3cfca5c604f8')\"\n",
              "              title=\"Convert this dataframe to an interactive table.\"\n",
              "              style=\"display:none;\">\n",
              "        \n",
              "  <svg xmlns=\"http://www.w3.org/2000/svg\" height=\"24px\"viewBox=\"0 0 24 24\"\n",
              "       width=\"24px\">\n",
              "    <path d=\"M0 0h24v24H0V0z\" fill=\"none\"/>\n",
              "    <path d=\"M18.56 5.44l.94 2.06.94-2.06 2.06-.94-2.06-.94-.94-2.06-.94 2.06-2.06.94zm-11 1L8.5 8.5l.94-2.06 2.06-.94-2.06-.94L8.5 2.5l-.94 2.06-2.06.94zm10 10l.94 2.06.94-2.06 2.06-.94-2.06-.94-.94-2.06-.94 2.06-2.06.94z\"/><path d=\"M17.41 7.96l-1.37-1.37c-.4-.4-.92-.59-1.43-.59-.52 0-1.04.2-1.43.59L10.3 9.45l-7.72 7.72c-.78.78-.78 2.05 0 2.83L4 21.41c.39.39.9.59 1.41.59.51 0 1.02-.2 1.41-.59l7.78-7.78 2.81-2.81c.8-.78.8-2.07 0-2.86zM5.41 20L4 18.59l7.72-7.72 1.47 1.35L5.41 20z\"/>\n",
              "  </svg>\n",
              "      </button>\n",
              "      \n",
              "  <style>\n",
              "    .colab-df-container {\n",
              "      display:flex;\n",
              "      flex-wrap:wrap;\n",
              "      gap: 12px;\n",
              "    }\n",
              "\n",
              "    .colab-df-convert {\n",
              "      background-color: #E8F0FE;\n",
              "      border: none;\n",
              "      border-radius: 50%;\n",
              "      cursor: pointer;\n",
              "      display: none;\n",
              "      fill: #1967D2;\n",
              "      height: 32px;\n",
              "      padding: 0 0 0 0;\n",
              "      width: 32px;\n",
              "    }\n",
              "\n",
              "    .colab-df-convert:hover {\n",
              "      background-color: #E2EBFA;\n",
              "      box-shadow: 0px 1px 2px rgba(60, 64, 67, 0.3), 0px 1px 3px 1px rgba(60, 64, 67, 0.15);\n",
              "      fill: #174EA6;\n",
              "    }\n",
              "\n",
              "    [theme=dark] .colab-df-convert {\n",
              "      background-color: #3B4455;\n",
              "      fill: #D2E3FC;\n",
              "    }\n",
              "\n",
              "    [theme=dark] .colab-df-convert:hover {\n",
              "      background-color: #434B5C;\n",
              "      box-shadow: 0px 1px 3px 1px rgba(0, 0, 0, 0.15);\n",
              "      filter: drop-shadow(0px 1px 2px rgba(0, 0, 0, 0.3));\n",
              "      fill: #FFFFFF;\n",
              "    }\n",
              "  </style>\n",
              "\n",
              "      <script>\n",
              "        const buttonEl =\n",
              "          document.querySelector('#df-c5d68e60-74d1-4557-b8f7-3cfca5c604f8 button.colab-df-convert');\n",
              "        buttonEl.style.display =\n",
              "          google.colab.kernel.accessAllowed ? 'block' : 'none';\n",
              "\n",
              "        async function convertToInteractive(key) {\n",
              "          const element = document.querySelector('#df-c5d68e60-74d1-4557-b8f7-3cfca5c604f8');\n",
              "          const dataTable =\n",
              "            await google.colab.kernel.invokeFunction('convertToInteractive',\n",
              "                                                     [key], {});\n",
              "          if (!dataTable) return;\n",
              "\n",
              "          const docLinkHtml = 'Like what you see? Visit the ' +\n",
              "            '<a target=\"_blank\" href=https://colab.research.google.com/notebooks/data_table.ipynb>data table notebook</a>'\n",
              "            + ' to learn more about interactive tables.';\n",
              "          element.innerHTML = '';\n",
              "          dataTable['output_type'] = 'display_data';\n",
              "          await google.colab.output.renderOutput(dataTable, element);\n",
              "          const docLink = document.createElement('div');\n",
              "          docLink.innerHTML = docLinkHtml;\n",
              "          element.appendChild(docLink);\n",
              "        }\n",
              "      </script>\n",
              "    </div>\n",
              "  </div>\n",
              "  "
            ]
          },
          "metadata": {},
          "execution_count": 4
        }
      ]
    },
    {
      "cell_type": "markdown",
      "source": [
        "Memeriksa tipe data mana saja yang bernilai integer dan float untuk diolah selanjutnya"
      ],
      "metadata": {
        "id": "hgV215-TX2QR"
      }
    },
    {
      "cell_type": "code",
      "source": [
        "print (row_data.dtypes)"
      ],
      "metadata": {
        "trusted": true,
        "id": "RiiqrrVLX2QS",
        "outputId": "3585e30a-105c-4ce1-bef9-8d23f7a0c6b4",
        "colab": {
          "base_uri": "https://localhost:8080/"
        }
      },
      "execution_count": 5,
      "outputs": [
        {
          "output_type": "stream",
          "name": "stdout",
          "text": [
            "model            object\n",
            "year              int64\n",
            "price             int64\n",
            "transmission     object\n",
            "mileage           int64\n",
            "fuelType         object\n",
            "tax               int64\n",
            "mpg             float64\n",
            "engineSize      float64\n",
            "dtype: object\n"
          ]
        }
      ]
    },
    {
      "cell_type": "markdown",
      "source": [
        "# 4. Definisikan input output data yang menggunakan tipe data integer dan float"
      ],
      "metadata": {
        "id": "EoMm6aFCX2QT"
      }
    },
    {
      "cell_type": "code",
      "source": [
        "features = ['year', 'mileage', 'tax', 'mpg', 'engineSize']\n",
        "x = data[features]\n",
        "y = data['price']\n",
        "x.shape, y.shape"
      ],
      "metadata": {
        "trusted": true,
        "id": "Gh3wqb2qX2QU",
        "outputId": "ef9c8bc3-f455-43b5-db09-6031f9e9bbe5",
        "colab": {
          "base_uri": "https://localhost:8080/"
        }
      },
      "execution_count": 6,
      "outputs": [
        {
          "output_type": "execute_result",
          "data": {
            "text/plain": [
              "((6738, 5), (6738,))"
            ]
          },
          "metadata": {},
          "execution_count": 6
        }
      ]
    },
    {
      "cell_type": "markdown",
      "source": [
        "# 5. Membagi data untuk training dan validasi"
      ],
      "metadata": {
        "id": "ZNmqt9s2X2QU"
      }
    },
    {
      "cell_type": "code",
      "source": [
        "from sklearn.model_selection import train_test_split\n",
        "train_x, test_x, train_y, test_y = train_test_split(x, y, random_state = 70)"
      ],
      "metadata": {
        "trusted": true,
        "id": "2mFGjQOUX2QV"
      },
      "execution_count": 7,
      "outputs": []
    },
    {
      "cell_type": "code",
      "source": [
        "test_y.shape"
      ],
      "metadata": {
        "trusted": true,
        "id": "ljb2-jAVX2QW",
        "outputId": "43c8b037-c07a-4200-dd66-ee3ad078a0ba",
        "colab": {
          "base_uri": "https://localhost:8080/"
        }
      },
      "execution_count": 8,
      "outputs": [
        {
          "output_type": "execute_result",
          "data": {
            "text/plain": [
              "(1685,)"
            ]
          },
          "metadata": {},
          "execution_count": 8
        }
      ]
    },
    {
      "cell_type": "markdown",
      "source": [
        "# 6. Membangun machine learning model dengan algoritma K-Nearest Neighbors"
      ],
      "metadata": {
        "id": "Dp_sxhsZX2QX"
      }
    },
    {
      "cell_type": "code",
      "source": [
        "from sklearn.neighbors import KNeighborsRegressor as KNN_Reg\n",
        "from sklearn.metrics import mean_squared_error as mse\n",
        "\n",
        "model = KNN_Reg(n_neighbors = 80)\n",
        "\n",
        "# training the model:\n",
        "model.fit(train_x, train_y)\n",
        "acc1 = model.score(test_x, test_y)\n",
        "\n",
        "# test for prediction\n",
        "test_predict = model.predict(test_x)\n",
        "score = mse(test_predict, test_y)\n",
        "print(' MSE: ', score, '\\n', 'Accuracy: ', acc1)  "
      ],
      "metadata": {
        "trusted": true,
        "id": "FGnienWKX2QX",
        "outputId": "4c8aa9f7-1ada-46f1-e6d2-f62790961fb1",
        "colab": {
          "base_uri": "https://localhost:8080/"
        }
      },
      "execution_count": 9,
      "outputs": [
        {
          "output_type": "stream",
          "name": "stdout",
          "text": [
            " MSE:  34239918.03594575 \n",
            " Accuracy:  0.09914493863007989\n"
          ]
        }
      ]
    },
    {
      "cell_type": "markdown",
      "source": [
        "# 7. Menggunakan Elbow method untuk menentukan nilak K terbaik"
      ],
      "metadata": {
        "id": "GEAmo0wZX2QY"
      }
    },
    {
      "cell_type": "code",
      "source": [
        "def Elbow(K):\n",
        "  #initiating an empy list\n",
        "  test_mse =[]\n",
        "\n",
        "  #train model for every value of K\n",
        "  for i in K:\n",
        "    model = KNN_Reg(n_neighbors=i)\n",
        "    model.fit(train_x, train_y)\n",
        "    tmp = model.predict(test_x)\n",
        "    tmp = mse(tmp, test_y)\n",
        "    test_mse.append(tmp)\n",
        "  \n",
        "  return test_mse"
      ],
      "metadata": {
        "trusted": true,
        "id": "afcxjaLUX2QZ"
      },
      "execution_count": 10,
      "outputs": []
    },
    {
      "cell_type": "markdown",
      "source": [
        "# 8. Menampilkan grafik nilai k berdasarkan MSE"
      ],
      "metadata": {
        "id": "dsl96TdmX2Qa"
      }
    },
    {
      "cell_type": "code",
      "source": [
        "K = range(80, 100)\n",
        "test = Elbow(K)\n",
        "\n",
        "#plotting\n",
        "plt.plot(K,test)\n",
        "plt.xlabel('K Neighbors')\n",
        "plt.ylabel('Mean Squared Error (MSE)')\n",
        "plt.title('Elbow Curve for Test')"
      ],
      "metadata": {
        "trusted": true,
        "id": "x1xP3pQGX2Qa",
        "outputId": "ce66c591-fd30-4db3-9bfc-4cef8e79d0d8",
        "colab": {
          "base_uri": "https://localhost:8080/",
          "height": 312
        }
      },
      "execution_count": 11,
      "outputs": [
        {
          "output_type": "execute_result",
          "data": {
            "text/plain": [
              "Text(0.5, 1.0, 'Elbow Curve for Test')"
            ]
          },
          "metadata": {},
          "execution_count": 11
        },
        {
          "output_type": "display_data",
          "data": {
            "text/plain": [
              "<Figure size 432x288 with 1 Axes>"
            ],
            "image/png": "[encoded data removed]"
          },
          "metadata": {
            "needs_background": "light"
          }
        }
      ]
    },
    {
      "cell_type": "markdown",
      "source": [
        "# 9. Melakukan koreksi nilai K dengan menggunakan nilai K terbaik berdasarkan hasil dari Elbow method."
      ],
      "metadata": {
        "id": "aEHB80ZgX2Qb"
      }
    },
    {
      "cell_type": "markdown",
      "source": [
        "Nilai K terbaik adalah nilai K yang menghasilkan MSE minimum, dalam kasus ini k=97"
      ],
      "metadata": {
        "id": "STwWvYxrX2Qc"
      }
    },
    {
      "cell_type": "code",
      "source": [
        "new_model = KNN_Reg(n_neighbors=97)\n",
        "\n",
        "# Train model\n",
        "new_model.fit(train_x, train_y)\n",
        "acc2 = new_model.score(test_x, test_y)\n",
        "\n",
        "# Prediction test\n",
        "print(' Accuracy of new model (%):', acc2*100, '\\n', 'Accuracy of old model (%):', acc1*100, '\\n Improvement (%):', (acc2-acc1)*100)"
      ],
      "metadata": {
        "trusted": true,
        "id": "EHG831fwX2Qc",
        "outputId": "0d5310a0-263f-4fb1-b981-8e29bb8f7925",
        "colab": {
          "base_uri": "https://localhost:8080/"
        }
      },
      "execution_count": 12,
      "outputs": [
        {
          "output_type": "stream",
          "name": "stdout",
          "text": [
            " Accuracy of new model (%): 10.301241818100404 \n",
            " Accuracy of old model (%): 9.914493863007989 \n",
            " Improvement (%): 0.38674795509241466\n"
          ]
        }
      ]
    },
    {
      "cell_type": "markdown",
      "source": [
        "# 10. Contoh penggunaan machine learning yang dibuat untuk memprediksi harga mobil bekas"
      ],
      "metadata": {
        "id": "8aPjHwO8X2Qd"
      }
    },
    {
      "cell_type": "markdown",
      "source": [
        "Memprediksi dengan memasukkan data yang dimiliki berupa:\n",
        "1. Tahun dibuatnya mobil --- year\n",
        "2. Jarak tempuh mobil dalam satuan mil --- mileage\n",
        "3. Pajak kendaraan yang berlaku --- tax\n",
        "4. Kebutuhan rata-rata bahan bakar dalam satuan mpg --- mpg\n",
        "5. Besarnya ukuran mesin --- engineSize\n",
        "\n",
        "Konversi mata uang : USD 1 = Rp 15.650 , data diambil pada 09 / 11 / 2022"
      ],
      "metadata": {
        "id": "x80P8mYsX2Qe"
      }
    },
    {
      "cell_type": "markdown",
      "source": [
        "**Percobaan ke 1**\n",
        "\n",
        "Data mobil bekas: year=2019, mileage=5000, tax=145, mpg=30.2, engineSize=2\n",
        "\n",
        "Format input data:\n",
        "\n",
        "data_mobil_bekas = ['year', 'mileage', 'tax', 'mpg', 'engineSize']"
      ],
      "metadata": {
        "id": "ut8yU_qaX2Qq"
      }
    },
    {
      "cell_type": "code",
      "source": [
        "data_mobil_bekas = np.array([[2019,5000,145,30.2,2]])\n",
        "prediction_old = model.predict(data_mobil_bekas)\n",
        "prediction_new = new_model.predict(data_mobil_bekas)\n",
        "print(' Hasil Prediksi harga mobil dengan old model: USD', prediction_old, 'atau jika dirupiahkan yaitu: Rp', prediction_old * 19110*1e-6, 'Juta\\n',\n",
        "      'Hasil Prediksi harga mobil dengan new model: USD', prediction_new, 'atau jika dirupiahkan yaitu: Rp', prediction_new * 19110*1e-6, 'Juta')"
      ],
      "metadata": {
        "trusted": true,
        "id": "MruNBIS3X2Qr",
        "outputId": "e9940251-b77b-4c22-8953-c7f29f34e0d9",
        "colab": {
          "base_uri": "https://localhost:8080/"
        }
      },
      "execution_count": 14,
      "outputs": [
        {
          "output_type": "stream",
          "name": "stdout",
          "text": [
            " Hasil Prediksi harga mobil dengan old model: USD [15614.325] atau jika dirupiahkan yaitu: Rp [298.38975075] Juta\n",
            " Hasil Prediksi harga mobil dengan new model: USD [14988.65979381] atau jika dirupiahkan yaitu: Rp [286.43328866] Juta\n"
          ]
        },
        {
          "output_type": "stream",
          "name": "stderr",
          "text": [
            "/usr/local/lib/python3.7/dist-packages/sklearn/base.py:451: UserWarning: X does not have valid feature names, but KNeighborsRegressor was fitted with feature names\n",
            "  \"X does not have valid feature names, but\"\n",
            "/usr/local/lib/python3.7/dist-packages/sklearn/base.py:451: UserWarning: X does not have valid feature names, but KNeighborsRegressor was fitted with feature names\n",
            "  \"X does not have valid feature names, but\"\n"
          ]
        }
      ]
    },
    {
      "cell_type": "markdown",
      "source": [
        "**Percobaan ke 2**\n",
        "\n",
        "Data mobil bekas: year=2019, mileage=15000, tax=200, mpg=20.4, engineSize=3]\n",
        "\n",
        "Format input data:\n",
        "\n",
        "data_mobil_bekas = ['year', 'mileage', 'tax', 'mpg', 'engineSize']"
      ],
      "metadata": {
        "id": "qxoemMXrX2Qs"
      }
    },
    {
      "cell_type": "code",
      "source": [
        "data_mobil_bekas = np.array([[2019,15000,200,20.4,3]])\n",
        "prediction_old = model.predict(data_mobil_bekas)\n",
        "prediction_new = new_model.predict(data_mobil_bekas)\n",
        "print(' Hasil Prediksi harga mobil bekas dengan old model: USD', prediction_old, 'atau jika dirupiahkan yaitu: Rp', prediction_old * 19110*1e-6, 'Juta\\n',\n",
        "      'Hasil Prediksi harga mobil bekas dengan new model: USD', prediction_new, 'atau jika dirupiahkan yaitu: Rp', prediction_new * 19110*1e-6, 'Juta')"
      ],
      "metadata": {
        "trusted": true,
        "id": "ZaSHOGcYX2Qs",
        "outputId": "4cc8e0ae-7869-4ab6-a637-3a38ab88d7d8",
        "colab": {
          "base_uri": "https://localhost:8080/"
        }
      },
      "execution_count": 19,
      "outputs": [
        {
          "output_type": "stream",
          "name": "stdout",
          "text": [
            " Hasil Prediksi harga mobil bekas dengan old model: USD [12361.525] atau jika dirupiahkan yaitu: Rp [236.22874275] Juta\n",
            " Hasil Prediksi harga mobil bekas dengan new model: USD [12034.32989691] atau jika dirupiahkan yaitu: Rp [229.97604433] Juta\n"
          ]
        },
        {
          "output_type": "stream",
          "name": "stderr",
          "text": [
            "/usr/local/lib/python3.7/dist-packages/sklearn/base.py:451: UserWarning: X does not have valid feature names, but KNeighborsRegressor was fitted with feature names\n",
            "  \"X does not have valid feature names, but\"\n",
            "/usr/local/lib/python3.7/dist-packages/sklearn/base.py:451: UserWarning: X does not have valid feature names, but KNeighborsRegressor was fitted with feature names\n",
            "  \"X does not have valid feature names, but\"\n"
          ]
        }
      ]
    },
    {
      "cell_type": "markdown",
      "source": [
        "**Percobaan ke 3**\n",
        "\n",
        "Data mobil bekas: year=2016, mileage=30000, tax=150, mpg=20, engineSize=2]\n",
        "\n",
        "Format input data:\n",
        "\n",
        "data_mobil_bekas = ['year', 'mileage', 'tax', 'mpg', 'engineSize']"
      ],
      "metadata": {
        "id": "Hr58JaNCX2Qt"
      }
    },
    {
      "cell_type": "code",
      "source": [
        "data_mobil_bekas = np.array([[2016,30000,150,20,2]])\n",
        "prediction_old = model.predict(data_mobil_bekas)\n",
        "prediction_new = new_model.predict(data_mobil_bekas)\n",
        "print(' Hasil Prediksi harga mobil bekas dengan old model: USD', prediction_old, 'atau jika dirupiahkan yaitu: Rp', prediction_old * 19110*1e-6, 'Juta\\n',\n",
        "      'Hasil Prediksi harga mobil bekas dengan new model: USD', prediction_new, 'atau jika dirupiahkan yaitu: Rp', prediction_new * 19110*1e-6, 'Juta')"
      ],
      "metadata": {
        "trusted": true,
        "id": "dgvMN64jX2Qt",
        "outputId": "a7819f50-6297-4f6a-b3c3-f0ceecf2afb0",
        "colab": {
          "base_uri": "https://localhost:8080/"
        }
      },
      "execution_count": 20,
      "outputs": [
        {
          "output_type": "stream",
          "name": "stdout",
          "text": [
            " Hasil Prediksi harga mobil bekas dengan old model: USD [11834.2625] atau jika dirupiahkan yaitu: Rp [226.15275637] Juta\n",
            " Hasil Prediksi harga mobil bekas dengan new model: USD [12151.88659794] atau jika dirupiahkan yaitu: Rp [232.22255289] Juta\n"
          ]
        },
        {
          "output_type": "stream",
          "name": "stderr",
          "text": [
            "/usr/local/lib/python3.7/dist-packages/sklearn/base.py:451: UserWarning: X does not have valid feature names, but KNeighborsRegressor was fitted with feature names\n",
            "  \"X does not have valid feature names, but\"\n",
            "/usr/local/lib/python3.7/dist-packages/sklearn/base.py:451: UserWarning: X does not have valid feature names, but KNeighborsRegressor was fitted with feature names\n",
            "  \"X does not have valid feature names, but\"\n"
          ]
        }
      ]
    }
  ]
}