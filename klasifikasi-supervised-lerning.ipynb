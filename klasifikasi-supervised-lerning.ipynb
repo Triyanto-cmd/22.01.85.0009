{
  "metadata": {
    "kernelspec": {
      "language": "python",
      "display_name": "Python 3",
      "name": "python3"
    },
    "language_info": {
      "pygments_lexer": "ipython3",
      "nbconvert_exporter": "python",
      "version": "3.6.4",
      "file_extension": ".py",
      "codemirror_mode": {
        "name": "ipython",
        "version": 3
      },
      "name": "python",
      "mimetype": "text/x-python"
    },
    "colab": {
      "provenance": []
    }
  },
  "nbformat_minor": 0,
  "nbformat": 4,
  "cells": [
    {
      "cell_type": "markdown",
      "source": [
        "# 1. Latar Belakang\n",
        "\n",
        "Penyakit Lardiovaskular (Cardiovascular diseases) adalah penyebab kematian nomor 1 secara global, mengambil sekitar 17,9 juta jiwa setiap tahun, yang menyumbang 31% dari semua kematian di seluruh dunia. Gagal jantung adalah kejadian umum yang disebabkan oleh Penyakit Lardiovaskular dan kumpulan data ini berisi 12 fitur yang dapat digunakan untuk memprediksi kematian akibat gagal jantung.\n",
        "\n",
        "Sebagian besar penyakit kardiovaskular dapat dicegah dengan mengatasi faktor risiko perilaku seperti penggunaan tembakau, diet tidak sehat dan obesitas, kurangnya aktivitas fisik, dan penggunaan alkohol yang berbahaya menggunakan strategi di seluruh populasi.Orang dengan penyakit kardiovaskular atau yang berada pada risiko kardiovaskular tinggi (karena adanya satu atau lebih faktor risiko seperti hipertensi, diabetes, hiperlipidemia, atau penyakit yang sudah ada) memerlukan deteksi dan manajemen dini di mana model pembelajaran mesin dapat sangat membantu. . \n",
        "\n",
        "## 1.1 Deskripsi Data\n",
        "\n",
        "Dataset dari Davide Chicco, Giuseppe Jurman: \n",
        "\n",
        "**1. Age:** usia pasien (dalam tahun)\n",
        "\n",
        "**2. Anemia:** Penurunan sel darah merah atau hemoglobin\n",
        "\n",
        "**3. High blood pressure:** Jika pasien menderita hipertensi\n",
        "\n",
        "**4. Creatinine phosphokinase:** Tingkat enzim CPK dalam darah (mcg/L)\n",
        "\n",
        "**5. Diabetes:** Jika pasien menderita diabetes\n",
        "\n",
        "**6. Ejection fraction:** Persentase darah yang meninggalkan jantung pada setiap kontraksi\n",
        "\n",
        "**7. Sex:** Wanita atau pria\n",
        "\n",
        "**8. Platelets:** Trombosit dalam darah (kiloplatelet/mL)\n",
        "\n",
        "**9. Serum creatinine:** Tingkat kreatinin dalam darah (mg/dL)\n",
        "\n",
        "**10. Serum sodium:** Tingkat natrium dalam darah (mEq/L)\n",
        "\n",
        "**11. Smoking:** Jika pasien merokok\n",
        "\n",
        "**12. Time::** Periode tindak lanjut (dalam hari)\n",
        "\n",
        "**13. (target) death event:** Jika pasien meninggal selama masa tindak lanjut \n",
        "\n",
        "## 1.2 Deskripsi Masalah\n",
        "\n",
        "- Membuat model untuk memprediksi kemungkinan pasien meninggal karena gagal jantung.\n",
        "- Ini adalah masalah klasifikasi biner karena kelas target (Kematian) terdiri dari dua kelas Benar atau Salah "
      ],
      "metadata": {
        "id": "3ASbxWqFAcN7"
      }
    },
    {
      "cell_type": "markdown",
      "source": [
        "# 2. Persiapan Data\n",
        "\n",
        "## 2.1 Paket yang Dibutuhkan"
      ],
      "metadata": {
        "id": "2jC-htCsAcOJ"
      }
    },
    {
      "cell_type": "code",
      "source": [
        "!pip install seaborn --upgrade\n",
        "import pandas as pd # data manipulation\n",
        "import numpy as np # linear algebra\n",
        "\n",
        "# data visualization\n",
        "import matplotlib.pyplot as plt\n",
        "%matplotlib inline\n",
        "import seaborn as sns\n",
        "from statsmodels.graphics.gofplots import qqplot # normality check\n",
        "import plotly.express as px\n",
        "from sklearn.tree import plot_tree # decision tree \n",
        "\n",
        "# data preprocessing\n",
        "from imblearn.over_sampling import SMOTE # deal with imbalance data\n",
        "from sklearn.preprocessing import MinMaxScaler, PowerTransformer # scale data\n",
        "\n",
        "# classifiers\n",
        "from sklearn.neighbors import KNeighborsClassifier\n",
        "from sklearn.linear_model import LogisticRegression # linear classification\n",
        "from sklearn.svm import LinearSVC, SVC # support vector machines\n",
        "from sklearn.tree import DecisionTreeClassifier # tree based\n",
        "from sklearn.ensemble import RandomForestClassifier, ExtraTreesClassifier,\\\n",
        "AdaBoostClassifier, GradientBoostingClassifier\n",
        "import xgboost as xgb\n",
        "\n",
        "# model evaluation and selection\n",
        "from sklearn.model_selection import train_test_split, cross_val_score, cross_val_predict\n",
        "from sklearn.model_selection import RandomizedSearchCV, GridSearchCV\n",
        "from sklearn.metrics import classification_report, plot_roc_curve\n",
        "from sklearn.metrics import confusion_matrix, precision_score, recall_score, f1_score\n",
        "from sklearn.metrics import roc_curve, accuracy_score, roc_auc_score\n",
        "\n",
        "import os\n",
        "print(os.listdir(\"/content/input\"))"
      ],
      "metadata": {
        "execution": {
          "iopub.status.busy": "2021-11-01T11:33:16.539053Z",
          "iopub.execute_input": "2021-11-01T11:33:16.539371Z",
          "iopub.status.idle": "2021-11-01T11:33:24.113578Z",
          "shell.execute_reply.started": "2021-11-01T11:33:16.539336Z",
          "shell.execute_reply": "2021-11-01T11:33:24.112737Z"
        },
        "trusted": true,
        "id": "lpX62EkUAcOK",
        "outputId": "7ca67000-2a7e-4005-fac5-8bec36fcd4f8",
        "colab": {
          "base_uri": "https://localhost:8080/"
        }
      },
      "execution_count": 3,
      "outputs": [
        {
          "output_type": "stream",
          "name": "stdout",
          "text": [
            "Looking in indexes: https://pypi.org/simple, https://us-python.pkg.dev/colab-wheels/public/simple/\n",
            "Requirement already satisfied: seaborn in /usr/local/lib/python3.7/dist-packages (0.12.1)\n",
            "Requirement already satisfied: matplotlib!=3.6.1,>=3.1 in /usr/local/lib/python3.7/dist-packages (from seaborn) (3.2.2)\n",
            "Requirement already satisfied: pandas>=0.25 in /usr/local/lib/python3.7/dist-packages (from seaborn) (1.3.5)\n",
            "Requirement already satisfied: typing_extensions in /usr/local/lib/python3.7/dist-packages (from seaborn) (4.1.1)\n",
            "Requirement already satisfied: numpy>=1.17 in /usr/local/lib/python3.7/dist-packages (from seaborn) (1.21.6)\n",
            "Requirement already satisfied: pyparsing!=2.0.4,!=2.1.2,!=2.1.6,>=2.0.1 in /usr/local/lib/python3.7/dist-packages (from matplotlib!=3.6.1,>=3.1->seaborn) (3.0.9)\n",
            "Requirement already satisfied: kiwisolver>=1.0.1 in /usr/local/lib/python3.7/dist-packages (from matplotlib!=3.6.1,>=3.1->seaborn) (1.4.4)\n",
            "Requirement already satisfied: python-dateutil>=2.1 in /usr/local/lib/python3.7/dist-packages (from matplotlib!=3.6.1,>=3.1->seaborn) (2.8.2)\n",
            "Requirement already satisfied: cycler>=0.10 in /usr/local/lib/python3.7/dist-packages (from matplotlib!=3.6.1,>=3.1->seaborn) (0.11.0)\n",
            "Requirement already satisfied: pytz>=2017.3 in /usr/local/lib/python3.7/dist-packages (from pandas>=0.25->seaborn) (2022.5)\n",
            "Requirement already satisfied: six>=1.5 in /usr/local/lib/python3.7/dist-packages (from python-dateutil>=2.1->matplotlib!=3.6.1,>=3.1->seaborn) (1.15.0)\n",
            "[]\n"
          ]
        }
      ]
    },
    {
      "cell_type": "markdown",
      "source": [
        " ## 2.2 Dataset dan Deskripsi Fitur "
      ],
      "metadata": {
        "id": "3SB6wrCUAcOO"
      }
    },
    {
      "cell_type": "code",
      "source": [
        "df = pd.read_csv('/content/input/heart_failure_clinical_records_dataset.csv')\n",
        "df.head()"
      ],
      "metadata": {
        "execution": {
          "iopub.status.busy": "2021-11-01T11:33:24.115411Z",
          "iopub.execute_input": "2021-11-01T11:33:24.115903Z",
          "iopub.status.idle": "2021-11-01T11:33:24.141229Z",
          "shell.execute_reply.started": "2021-11-01T11:33:24.115862Z",
          "shell.execute_reply": "2021-11-01T11:33:24.140586Z"
        },
        "trusted": true,
        "id": "4l3YU_FIAcOP",
        "outputId": "cf12f5e8-8c51-4e54-9cc0-cdbc39eec936",
        "colab": {
          "base_uri": "https://localhost:8080/",
          "height": 270
        }
      },
      "execution_count": 4,
      "outputs": [
        {
          "output_type": "execute_result",
          "data": {
            "text/plain": [
              "    age  anaemia  creatinine_phosphokinase  diabetes  ejection_fraction  \\\n",
              "0  75.0        0                       582         0                 20   \n",
              "1  55.0        0                      7861         0                 38   \n",
              "2  65.0        0                       146         0                 20   \n",
              "3  50.0        1                       111         0                 20   \n",
              "4  65.0        1                       160         1                 20   \n",
              "\n",
              "   high_blood_pressure  platelets  serum_creatinine  serum_sodium  sex  \\\n",
              "0                    1  265000.00               1.9           130    1   \n",
              "1                    0  263358.03               1.1           136    1   \n",
              "2                    0  162000.00               1.3           129    1   \n",
              "3                    0  210000.00               1.9           137    1   \n",
              "4                    0  327000.00               2.7           116    0   \n",
              "\n",
              "   smoking  time  DEATH_EVENT  \n",
              "0        0     4            1  \n",
              "1        0     6            1  \n",
              "2        1     7            1  \n",
              "3        0     7            1  \n",
              "4        0     8            1  "
            ],
            "text/html": [
              "\n",
              "  <div id=\"df-c4e6fb69-9035-4b6d-bb3d-3b38865395eb\">\n",
              "    <div class=\"colab-df-container\">\n",
              "      <div>\n",
              "<style scoped>\n",
              "    .dataframe tbody tr th:only-of-type {\n",
              "        vertical-align: middle;\n",
              "    }\n",
              "\n",
              "    .dataframe tbody tr th {\n",
              "        vertical-align: top;\n",
              "    }\n",
              "\n",
              "    .dataframe thead th {\n",
              "        text-align: right;\n",
              "    }\n",
              "</style>\n",
              "<table border=\"1\" class=\"dataframe\">\n",
              "  <thead>\n",
              "    <tr style=\"text-align: right;\">\n",
              "      <th></th>\n",
              "      <th>age</th>\n",
              "      <th>anaemia</th>\n",
              "      <th>creatinine_phosphokinase</th>\n",
              "      <th>diabetes</th>\n",
              "      <th>ejection_fraction</th>\n",
              "      <th>high_blood_pressure</th>\n",
              "      <th>platelets</th>\n",
              "      <th>serum_creatinine</th>\n",
              "      <th>serum_sodium</th>\n",
              "      <th>sex</th>\n",
              "      <th>smoking</th>\n",
              "      <th>time</th>\n",
              "      <th>DEATH_EVENT</th>\n",
              "    </tr>\n",
              "  </thead>\n",
              "  <tbody>\n",
              "    <tr>\n",
              "      <th>0</th>\n",
              "      <td>75.0</td>\n",
              "      <td>0</td>\n",
              "      <td>582</td>\n",
              "      <td>0</td>\n",
              "      <td>20</td>\n",
              "      <td>1</td>\n",
              "      <td>265000.00</td>\n",
              "      <td>1.9</td>\n",
              "      <td>130</td>\n",
              "      <td>1</td>\n",
              "      <td>0</td>\n",
              "      <td>4</td>\n",
              "      <td>1</td>\n",
              "    </tr>\n",
              "    <tr>\n",
              "      <th>1</th>\n",
              "      <td>55.0</td>\n",
              "      <td>0</td>\n",
              "      <td>7861</td>\n",
              "      <td>0</td>\n",
              "      <td>38</td>\n",
              "      <td>0</td>\n",
              "      <td>263358.03</td>\n",
              "      <td>1.1</td>\n",
              "      <td>136</td>\n",
              "      <td>1</td>\n",
              "      <td>0</td>\n",
              "      <td>6</td>\n",
              "      <td>1</td>\n",
              "    </tr>\n",
              "    <tr>\n",
              "      <th>2</th>\n",
              "      <td>65.0</td>\n",
              "      <td>0</td>\n",
              "      <td>146</td>\n",
              "      <td>0</td>\n",
              "      <td>20</td>\n",
              "      <td>0</td>\n",
              "      <td>162000.00</td>\n",
              "      <td>1.3</td>\n",
              "      <td>129</td>\n",
              "      <td>1</td>\n",
              "      <td>1</td>\n",
              "      <td>7</td>\n",
              "      <td>1</td>\n",
              "    </tr>\n",
              "    <tr>\n",
              "      <th>3</th>\n",
              "      <td>50.0</td>\n",
              "      <td>1</td>\n",
              "      <td>111</td>\n",
              "      <td>0</td>\n",
              "      <td>20</td>\n",
              "      <td>0</td>\n",
              "      <td>210000.00</td>\n",
              "      <td>1.9</td>\n",
              "      <td>137</td>\n",
              "      <td>1</td>\n",
              "      <td>0</td>\n",
              "      <td>7</td>\n",
              "      <td>1</td>\n",
              "    </tr>\n",
              "    <tr>\n",
              "      <th>4</th>\n",
              "      <td>65.0</td>\n",
              "      <td>1</td>\n",
              "      <td>160</td>\n",
              "      <td>1</td>\n",
              "      <td>20</td>\n",
              "      <td>0</td>\n",
              "      <td>327000.00</td>\n",
              "      <td>2.7</td>\n",
              "      <td>116</td>\n",
              "      <td>0</td>\n",
              "      <td>0</td>\n",
              "      <td>8</td>\n",
              "      <td>1</td>\n",
              "    </tr>\n",
              "  </tbody>\n",
              "</table>\n",
              "</div>\n",
              "      <button class=\"colab-df-convert\" onclick=\"convertToInteractive('df-c4e6fb69-9035-4b6d-bb3d-3b38865395eb')\"\n",
              "              title=\"Convert this dataframe to an interactive table.\"\n",
              "              style=\"display:none;\">\n",
              "        \n",
              "  <svg xmlns=\"http://www.w3.org/2000/svg\" height=\"24px\"viewBox=\"0 0 24 24\"\n",
              "       width=\"24px\">\n",
              "    <path d=\"M0 0h24v24H0V0z\" fill=\"none\"/>\n",
              "    <path d=\"M18.56 5.44l.94 2.06.94-2.06 2.06-.94-2.06-.94-.94-2.06-.94 2.06-2.06.94zm-11 1L8.5 8.5l.94-2.06 2.06-.94-2.06-.94L8.5 2.5l-.94 2.06-2.06.94zm10 10l.94 2.06.94-2.06 2.06-.94-2.06-.94-.94-2.06-.94 2.06-2.06.94z\"/><path d=\"M17.41 7.96l-1.37-1.37c-.4-.4-.92-.59-1.43-.59-.52 0-1.04.2-1.43.59L10.3 9.45l-7.72 7.72c-.78.78-.78 2.05 0 2.83L4 21.41c.39.39.9.59 1.41.59.51 0 1.02-.2 1.41-.59l7.78-7.78 2.81-2.81c.8-.78.8-2.07 0-2.86zM5.41 20L4 18.59l7.72-7.72 1.47 1.35L5.41 20z\"/>\n",
              "  </svg>\n",
              "      </button>\n",
              "      \n",
              "  <style>\n",
              "    .colab-df-container {\n",
              "      display:flex;\n",
              "      flex-wrap:wrap;\n",
              "      gap: 12px;\n",
              "    }\n",
              "\n",
              "    .colab-df-convert {\n",
              "      background-color: #E8F0FE;\n",
              "      border: none;\n",
              "      border-radius: 50%;\n",
              "      cursor: pointer;\n",
              "      display: none;\n",
              "      fill: #1967D2;\n",
              "      height: 32px;\n",
              "      padding: 0 0 0 0;\n",
              "      width: 32px;\n",
              "    }\n",
              "\n",
              "    .colab-df-convert:hover {\n",
              "      background-color: #E2EBFA;\n",
              "      box-shadow: 0px 1px 2px rgba(60, 64, 67, 0.3), 0px 1px 3px 1px rgba(60, 64, 67, 0.15);\n",
              "      fill: #174EA6;\n",
              "    }\n",
              "\n",
              "    [theme=dark] .colab-df-convert {\n",
              "      background-color: #3B4455;\n",
              "      fill: #D2E3FC;\n",
              "    }\n",
              "\n",
              "    [theme=dark] .colab-df-convert:hover {\n",
              "      background-color: #434B5C;\n",
              "      box-shadow: 0px 1px 3px 1px rgba(0, 0, 0, 0.15);\n",
              "      filter: drop-shadow(0px 1px 2px rgba(0, 0, 0, 0.3));\n",
              "      fill: #FFFFFF;\n",
              "    }\n",
              "  </style>\n",
              "\n",
              "      <script>\n",
              "        const buttonEl =\n",
              "          document.querySelector('#df-c4e6fb69-9035-4b6d-bb3d-3b38865395eb button.colab-df-convert');\n",
              "        buttonEl.style.display =\n",
              "          google.colab.kernel.accessAllowed ? 'block' : 'none';\n",
              "\n",
              "        async function convertToInteractive(key) {\n",
              "          const element = document.querySelector('#df-c4e6fb69-9035-4b6d-bb3d-3b38865395eb');\n",
              "          const dataTable =\n",
              "            await google.colab.kernel.invokeFunction('convertToInteractive',\n",
              "                                                     [key], {});\n",
              "          if (!dataTable) return;\n",
              "\n",
              "          const docLinkHtml = 'Like what you see? Visit the ' +\n",
              "            '<a target=\"_blank\" href=https://colab.research.google.com/notebooks/data_table.ipynb>data table notebook</a>'\n",
              "            + ' to learn more about interactive tables.';\n",
              "          element.innerHTML = '';\n",
              "          dataTable['output_type'] = 'display_data';\n",
              "          await google.colab.output.renderOutput(dataTable, element);\n",
              "          const docLink = document.createElement('div');\n",
              "          docLink.innerHTML = docLinkHtml;\n",
              "          element.appendChild(docLink);\n",
              "        }\n",
              "      </script>\n",
              "    </div>\n",
              "  </div>\n",
              "  "
            ]
          },
          "metadata": {},
          "execution_count": 4
        }
      ]
    },
    {
      "cell_type": "code",
      "source": [
        "df.shape   # dimensi data"
      ],
      "metadata": {
        "execution": {
          "iopub.status.busy": "2021-11-01T11:33:24.142475Z",
          "iopub.execute_input": "2021-11-01T11:33:24.142966Z",
          "iopub.status.idle": "2021-11-01T11:33:24.148349Z",
          "shell.execute_reply.started": "2021-11-01T11:33:24.142931Z",
          "shell.execute_reply": "2021-11-01T11:33:24.147573Z"
        },
        "trusted": true,
        "id": "M5iy5gVNAcOR",
        "outputId": "d7c9f968-4dc3-40fb-be73-c50465d83619",
        "colab": {
          "base_uri": "https://localhost:8080/"
        }
      },
      "execution_count": 5,
      "outputs": [
        {
          "output_type": "execute_result",
          "data": {
            "text/plain": [
              "(299, 13)"
            ]
          },
          "metadata": {},
          "execution_count": 5
        }
      ]
    },
    {
      "cell_type": "code",
      "source": [
        "df.info()  # info struktur data"
      ],
      "metadata": {
        "execution": {
          "iopub.status.busy": "2021-11-01T11:33:24.150621Z",
          "iopub.execute_input": "2021-11-01T11:33:24.151214Z",
          "iopub.status.idle": "2021-11-01T11:33:24.164758Z",
          "shell.execute_reply.started": "2021-11-01T11:33:24.151175Z",
          "shell.execute_reply": "2021-11-01T11:33:24.163975Z"
        },
        "trusted": true,
        "id": "MNPDngNJAcOS",
        "outputId": "40c1a66c-e6f1-46ec-f12e-0a629d08925b",
        "colab": {
          "base_uri": "https://localhost:8080/"
        }
      },
      "execution_count": 6,
      "outputs": [
        {
          "output_type": "stream",
          "name": "stdout",
          "text": [
            "<class 'pandas.core.frame.DataFrame'>\n",
            "RangeIndex: 299 entries, 0 to 298\n",
            "Data columns (total 13 columns):\n",
            " #   Column                    Non-Null Count  Dtype  \n",
            "---  ------                    --------------  -----  \n",
            " 0   age                       299 non-null    float64\n",
            " 1   anaemia                   299 non-null    int64  \n",
            " 2   creatinine_phosphokinase  299 non-null    int64  \n",
            " 3   diabetes                  299 non-null    int64  \n",
            " 4   ejection_fraction         299 non-null    int64  \n",
            " 5   high_blood_pressure       299 non-null    int64  \n",
            " 6   platelets                 299 non-null    float64\n",
            " 7   serum_creatinine          299 non-null    float64\n",
            " 8   serum_sodium              299 non-null    int64  \n",
            " 9   sex                       299 non-null    int64  \n",
            " 10  smoking                   299 non-null    int64  \n",
            " 11  time                      299 non-null    int64  \n",
            " 12  DEATH_EVENT               299 non-null    int64  \n",
            "dtypes: float64(3), int64(10)\n",
            "memory usage: 30.5 KB\n"
          ]
        }
      ]
    },
    {
      "cell_type": "code",
      "source": [
        "df.age = df.age.astype('int64')  # Perbaiki tipe data usia "
      ],
      "metadata": {
        "execution": {
          "iopub.status.busy": "2021-11-01T11:33:24.166032Z",
          "iopub.execute_input": "2021-11-01T11:33:24.166351Z",
          "iopub.status.idle": "2021-11-01T11:33:24.1737Z",
          "shell.execute_reply.started": "2021-11-01T11:33:24.166316Z",
          "shell.execute_reply": "2021-11-01T11:33:24.172975Z"
        },
        "trusted": true,
        "id": "gAEj8l8LAcOT"
      },
      "execution_count": 7,
      "outputs": []
    },
    {
      "cell_type": "code",
      "source": [
        "# mempersiapkan data numerik dan kategori\n",
        "numeric = ['age', 'creatinine_phosphokinase', \n",
        "           'ejection_fraction', 'platelets', \n",
        "           'serum_creatinine', 'time']\n",
        "categorical = ['anaemia', 'diabetes', 'high_blood_pressure', \n",
        "               'sex', 'smoking']"
      ],
      "metadata": {
        "execution": {
          "iopub.status.busy": "2021-11-01T11:33:24.176028Z",
          "iopub.execute_input": "2021-11-01T11:33:24.17664Z",
          "iopub.status.idle": "2021-11-01T11:33:24.183233Z",
          "shell.execute_reply.started": "2021-11-01T11:33:24.176594Z",
          "shell.execute_reply": "2021-11-01T11:33:24.182482Z"
        },
        "trusted": true,
        "id": "4my-ySpYAcOW"
      },
      "execution_count": 8,
      "outputs": []
    },
    {
      "cell_type": "markdown",
      "source": [
        "Untuk penjelasan mengenai lebih lanjut mengenai fitur dataset silahkan kembali ke [Deskripsi Data](#des)"
      ],
      "metadata": {
        "id": "0yw9Aw7MAcOZ"
      }
    },
    {
      "cell_type": "markdown",
      "source": [
        " ## 2.3 Missing Values\n",
        "\n",
        "- Tidak ada nilai yang hilang "
      ],
      "metadata": {
        "id": "0tSw7ipvAcOb"
      }
    },
    {
      "cell_type": "code",
      "source": [
        "df.isnull().sum()"
      ],
      "metadata": {
        "execution": {
          "iopub.status.busy": "2021-11-01T11:33:24.186095Z",
          "iopub.execute_input": "2021-11-01T11:33:24.18653Z",
          "iopub.status.idle": "2021-11-01T11:33:24.195039Z",
          "shell.execute_reply.started": "2021-11-01T11:33:24.186501Z",
          "shell.execute_reply": "2021-11-01T11:33:24.194384Z"
        },
        "trusted": true,
        "id": "5GfDfCsMAcOb",
        "outputId": "34c74cd7-568a-4fad-c25c-02ef94dff233",
        "colab": {
          "base_uri": "https://localhost:8080/"
        }
      },
      "execution_count": 9,
      "outputs": [
        {
          "output_type": "execute_result",
          "data": {
            "text/plain": [
              "age                         0\n",
              "anaemia                     0\n",
              "creatinine_phosphokinase    0\n",
              "diabetes                    0\n",
              "ejection_fraction           0\n",
              "high_blood_pressure         0\n",
              "platelets                   0\n",
              "serum_creatinine            0\n",
              "serum_sodium                0\n",
              "sex                         0\n",
              "smoking                     0\n",
              "time                        0\n",
              "DEATH_EVENT                 0\n",
              "dtype: int64"
            ]
          },
          "metadata": {},
          "execution_count": 9
        }
      ]
    },
    {
      "cell_type": "markdown",
      "source": [
        "## 2.4 Check Variabel Targets \n",
        "\n",
        "- Kelas atau label target tidak seimbang "
      ],
      "metadata": {
        "id": "_n0XdkSUAcOd"
      }
    },
    {
      "cell_type": "code",
      "source": [
        "target_count = df.DEATH_EVENT.value_counts()\n",
        "death_color = ['navy', 'crimson']\n",
        "with plt.style.context('ggplot'):\n",
        "    plt.figure(figsize=(6, 5))\n",
        "    sns.countplot(data=df, x='DEATH_EVENT', palette=death_color)\n",
        "    for name , val in zip(target_count.index, target_count.values):\n",
        "        plt.text(name, val/2, f'{round(val/sum(target_count)*100, 2)}%\\n({val})', ha='center',\n",
        "                color='white', fontdict={'fontsize':13})\n",
        "    plt.xticks(ticks=target_count.index, labels=['No', 'True'])\n",
        "    plt.yticks(np.arange(0, 230, 25))\n",
        "    plt.show()"
      ],
      "metadata": {
        "execution": {
          "iopub.status.busy": "2021-11-01T11:33:24.196876Z",
          "iopub.execute_input": "2021-11-01T11:33:24.197191Z",
          "iopub.status.idle": "2021-11-01T11:33:24.315007Z",
          "shell.execute_reply.started": "2021-11-01T11:33:24.19714Z",
          "shell.execute_reply": "2021-11-01T11:33:24.314193Z"
        },
        "trusted": true,
        "id": "X_kSFQtwAcOd",
        "outputId": "dfd26769-153b-41d1-eec4-32883433e04c",
        "colab": {
          "base_uri": "https://localhost:8080/",
          "height": 341
        }
      },
      "execution_count": 10,
      "outputs": [
        {
          "output_type": "display_data",
          "data": {
            "text/plain": [
              "<Figure size 432x360 with 1 Axes>"
            ],
            "image/png": "[encoded data removed]"
          },
          "metadata": {}
        }
      ]
    },
    {
      "cell_type": "markdown",
      "source": [
        "## 2.5 Distribusi Fitur Numerik\n",
        "\n",
        "- Dengan memperhatikan grafik histogram variabel numeriknya, diketahui bahwa fitur `creatinine_phosphokinase` dan `serum_creatinine` sangat positif atau miring ke kanan "
      ],
      "metadata": {
        "id": "yUR4eHkmAcOe"
      }
    },
    {
      "cell_type": "code",
      "source": [
        "colors = sns.color_palette(\"tab10\")\n",
        "with plt.style.context('bmh'):\n",
        "    plt.figure(figsize=(10, 10))\n",
        "    plt.subplots_adjust(wspace=0.4, hspace=0.4)\n",
        "    for i, (col, name) in enumerate(zip(colors, numeric)):\n",
        "        plt.subplot(3, 3, i+1)\n",
        "        sns.histplot(data=df, x=name, color=col)\n",
        "    plt.suptitle('Histogram fitur Numerik', fontsize=15)"
      ],
      "metadata": {
        "execution": {
          "iopub.status.busy": "2021-11-01T11:33:24.316418Z",
          "iopub.execute_input": "2021-11-01T11:33:24.316679Z",
          "iopub.status.idle": "2021-11-01T11:33:25.648656Z",
          "shell.execute_reply.started": "2021-11-01T11:33:24.316644Z",
          "shell.execute_reply": "2021-11-01T11:33:25.647969Z"
        },
        "trusted": true,
        "id": "QhUjx-T0AcOf",
        "outputId": "f8349660-c4bf-4e6c-a510-3edd4bcb8ed5",
        "colab": {
          "base_uri": "https://localhost:8080/",
          "height": 477
        }
      },
      "execution_count": 11,
      "outputs": [
        {
          "output_type": "display_data",
          "data": {
            "text/plain": [
              "<Figure size 720x720 with 6 Axes>"
            ],
            "image/png": "[encoded data removed]"
          },
          "metadata": {
            "needs_background": "light"
          }
        }
      ]
    },
    {
      "cell_type": "code",
      "source": [
        "fig, axes = plt.subplots(6, 2, figsize=(10, 20))\n",
        "plt.subplots_adjust(hspace=0.4)\n",
        "axes = axes.ravel()\n",
        "for i, name, col in zip(np.arange(0, 14, 2), numeric, colors):\n",
        "    sns.boxplot(data=df, x=name, ax=axes[i], y='DEATH_EVENT', \n",
        "                orient='h', palette=death_color, showfliers=True)\n",
        "    sns.boxplot(data=df, x=name, ax=axes[i+1], y='DEATH_EVENT', \n",
        "                orient='h', palette=death_color, showfliers=False)\n",
        "plt.suptitle('Boxplot fitur Numerik sehubungan dengan kelas target\\n(dengan dan tanpa outlier) ', \n",
        "             fontsize=15)\n",
        "plt.show()"
      ],
      "metadata": {
        "execution": {
          "iopub.status.busy": "2021-11-01T11:33:25.651765Z",
          "iopub.execute_input": "2021-11-01T11:33:25.651979Z",
          "iopub.status.idle": "2021-11-01T11:33:26.849614Z",
          "shell.execute_reply.started": "2021-11-01T11:33:25.651952Z",
          "shell.execute_reply": "2021-11-01T11:33:26.84876Z"
        },
        "trusted": true,
        "id": "F4eBbpRdAcOg",
        "outputId": "ff1f13fe-25a0-4c4b-c4e5-42c8b96fe257",
        "colab": {
          "base_uri": "https://localhost:8080/",
          "height": 1000
        }
      },
      "execution_count": 12,
      "outputs": [
        {
          "output_type": "display_data",
          "data": {
            "text/plain": [
              "<Figure size 720x1440 with 12 Axes>"
            ],
            "image/png": "[encoded data removed]"
          },
          "metadata": {
            "needs_background": "light"
          }
        }
      ]
    },
    {
      "cell_type": "markdown",
      "source": [
        "## 2.6 Fitur Kategoris Distribusi Dengan Kelas Target"
      ],
      "metadata": {
        "id": "3Oacfo0IAcOh"
      }
    },
    {
      "cell_type": "code",
      "source": [
        "colors = sns.color_palette(\"tab10\")\n",
        "with plt.style.context('bmh'):\n",
        "    plt.figure(figsize=(12, 15))\n",
        "    plt.subplots_adjust(wspace=0.4, hspace=0.4)\n",
        "    for i, (col, name) in enumerate(zip(colors, categorical)):\n",
        "        plt.subplot(3, 2, i+1)\n",
        "        sns.countplot(data=df, x=name, hue='DEATH_EVENT')"
      ],
      "metadata": {
        "execution": {
          "iopub.status.busy": "2021-11-01T11:33:26.851005Z",
          "iopub.execute_input": "2021-11-01T11:33:26.85127Z",
          "iopub.status.idle": "2021-11-01T11:33:27.75647Z",
          "shell.execute_reply.started": "2021-11-01T11:33:26.851233Z",
          "shell.execute_reply": "2021-11-01T11:33:27.755714Z"
        },
        "trusted": true,
        "id": "9Kibgz3MAcOh",
        "outputId": "8ee00903-efd1-4ecc-fab9-7994a2881293",
        "colab": {
          "base_uri": "https://localhost:8080/",
          "height": 0
        }
      },
      "execution_count": 16,
      "outputs": [
        {
          "output_type": "display_data",
          "data": {
            "text/plain": [
              "<Figure size 864x1080 with 5 Axes>"
            ],
            "image/png": "[encoded data removed]"
          },
          "metadata": {
            "needs_background": "light"
          }
        }
      ]
    },
    {
      "cell_type": "markdown",
      "source": [
        "# 3. Manipulasi Data\n",
        "\n",
        "## 3.1 Pisahkan Fitur dan Kelas Target  "
      ],
      "metadata": {
        "id": "GXKbFGPIAcOi"
      }
    },
    {
      "cell_type": "code",
      "source": [
        "X = df.iloc[:, :-1]\n",
        "y = df['DEATH_EVENT']\n",
        "print(X.shape)\n",
        "print(y.shape)"
      ],
      "metadata": {
        "execution": {
          "iopub.status.busy": "2021-11-01T11:33:27.757943Z",
          "iopub.execute_input": "2021-11-01T11:33:27.762267Z",
          "iopub.status.idle": "2021-11-01T11:33:27.772641Z",
          "shell.execute_reply.started": "2021-11-01T11:33:27.762225Z",
          "shell.execute_reply": "2021-11-01T11:33:27.771789Z"
        },
        "trusted": true,
        "id": "iRt0ZG-SAcOj",
        "outputId": "89842e7b-02c6-454d-c3f1-21f6267b29f1",
        "colab": {
          "base_uri": "https://localhost:8080/"
        }
      },
      "execution_count": 15,
      "outputs": [
        {
          "output_type": "stream",
          "name": "stdout",
          "text": [
            "(299, 12)\n",
            "(299,)\n"
          ]
        }
      ]
    },
    {
      "cell_type": "markdown",
      "source": [
        "## 3.2 Perbaiki Ketidakseimbangan Kelas menggunakan SMOTE\n",
        "\n",
        "SMOTE adalah teknik oversampling di mana sampel sintetis dihasilkan untuk kelas minoritas, dalam kasus ini, 1's "
      ],
      "metadata": {
        "id": "aeKF62lwAcOj"
      }
    },
    {
      "cell_type": "code",
      "source": [
        "smote = SMOTE(random_state=2021, n_jobs=-1, k_neighbors=5)\n",
        "smote.fit(X, y)\n",
        "X_smote, y_smote = smote.fit_resample(X, y)\n",
        "print(X_smote.shape)\n",
        "print(y_smote.shape)"
      ],
      "metadata": {
        "execution": {
          "iopub.status.busy": "2021-11-01T11:33:27.775785Z",
          "iopub.execute_input": "2021-11-01T11:33:27.77891Z",
          "iopub.status.idle": "2021-11-01T11:33:27.801061Z",
          "shell.execute_reply.started": "2021-11-01T11:33:27.777116Z",
          "shell.execute_reply": "2021-11-01T11:33:27.800302Z"
        },
        "trusted": true,
        "id": "asjss2t0AcOk",
        "outputId": "ebcccdee-8771-481e-87c4-296d3e5617c0",
        "colab": {
          "base_uri": "https://localhost:8080/"
        }
      },
      "execution_count": 17,
      "outputs": [
        {
          "output_type": "stream",
          "name": "stdout",
          "text": [
            "(406, 12)\n",
            "(406,)\n"
          ]
        }
      ]
    },
    {
      "cell_type": "markdown",
      "source": [
        "## 3.2 Transformasi Data\n",
        "\n",
        "Selama EDA untuk fitur numerik, histogram dari beberapa fitur menunjukkan kemiringan. Beberapa fitur seperti `creatinine_phosphokinase` dan `serum_creatinine` sangat miring. Fitur miring seperti ini dapat dibuat lebih mirip Gaussian menggunakan transformasi daya atau transformasi log. Sebagai contoh:\n",
        "\n",
        "**1. creatinine_phosphokinase** menggunakan transformasi log dapat membuat data sesuai dengan normalitas. Dalam hal ini, log-transform menghilangkan atau mengurangi skewness karena data asli mengikuti distribusi log-normal atau kira-kira begitu. "
      ],
      "metadata": {
        "id": "AGX1lN2iAcOl"
      }
    },
    {
      "cell_type": "code",
      "source": [
        "fig, ax = plt.subplots(1, 2, figsize=(10, 5))\n",
        "qqplot(df.creatinine_phosphokinase, fit=True, line='45', ax=ax[0])\n",
        "ax[0].set_title('sebelum transformasi')\n",
        "qqplot(np.log10(df.creatinine_phosphokinase), fit=True, line='45', ax=ax[1])\n",
        "ax[1].set_title('setelah transformasi')\n",
        "plt.suptitle('plot qq untuk creatinine_phosphokinase', fontweight='bold')\n",
        "plt.show()"
      ],
      "metadata": {
        "execution": {
          "iopub.status.busy": "2021-11-01T11:33:27.804701Z",
          "iopub.execute_input": "2021-11-01T11:33:27.805269Z",
          "iopub.status.idle": "2021-11-01T11:33:28.134724Z",
          "shell.execute_reply.started": "2021-11-01T11:33:27.805231Z",
          "shell.execute_reply": "2021-11-01T11:33:28.134014Z"
        },
        "trusted": true,
        "id": "1PCLI7O2AcOm",
        "outputId": "6ce962d1-6be0-4fde-a907-3b5bbff267ed",
        "colab": {
          "base_uri": "https://localhost:8080/",
          "height": 0
        }
      },
      "execution_count": 18,
      "outputs": [
        {
          "output_type": "display_data",
          "data": {
            "text/plain": [
              "<Figure size 720x360 with 2 Axes>"
            ],
            "image/png": "[encoded data removed]"
          },
          "metadata": {
            "needs_background": "light"
          }
        }
      ]
    },
    {
      "cell_type": "markdown",
      "source": [
        "**Note:** Plot qq di atas menunjukkan pengaruh transformasi log pada kreatinin_fosfokinase. Plot QQ (atau plot kuantil-kuantil) adalah plot di mana sumbu sengaja diubah untuk membuat distribusi normal (atau Gaussian) muncul dalam garis lurus. Dengan kata lain, distribusi normal sempurna akan mengikuti garis dengan kemiringan = 1 dan intersep = 0. "
      ],
      "metadata": {
        "id": "Hu92QGa4AcOm"
      }
    },
    {
      "cell_type": "markdown",
      "source": [
        "**2. serum_creatinine** menggunakan transformasi resiprokal (p = -1). Transformasi ini memiliki efek radikal karena membalikkan urutan di antara nilai-nilai dari tanda yang sama, oleh karena itu, nilai yang lebih besar menjadi lebih kecil, dan sebaliknya."
      ],
      "metadata": {
        "id": "WbryieGBAcOn"
      }
    },
    {
      "cell_type": "code",
      "source": [
        "p = -1\n",
        "fig, ax = plt.subplots(1, 2, figsize=(10, 5))\n",
        "\n",
        "qqplot(df.serum_creatinine, fit=True, line='45', ax=ax[0])\n",
        "ax[0].set_title('sebelum transformasi')\n",
        "\n",
        "qqplot(df.serum_creatinine**p, fit=True, line='45', ax=ax[1])\n",
        "ax[1].set_title('sesudah transformasi ')\n",
        "\n",
        "plt.suptitle('plot q-q untuk serum_creatinine', fontweight='bold')\n",
        "plt.show()"
      ],
      "metadata": {
        "execution": {
          "iopub.status.busy": "2021-11-01T11:33:28.136916Z",
          "iopub.execute_input": "2021-11-01T11:33:28.137332Z",
          "iopub.status.idle": "2021-11-01T11:33:28.443388Z",
          "shell.execute_reply.started": "2021-11-01T11:33:28.137292Z",
          "shell.execute_reply": "2021-11-01T11:33:28.442747Z"
        },
        "trusted": true,
        "id": "9zwM8oAaAcOn",
        "outputId": "78073e35-a911-4c1b-e790-c2cf69572059",
        "colab": {
          "base_uri": "https://localhost:8080/",
          "height": 0
        }
      },
      "execution_count": 19,
      "outputs": [
        {
          "output_type": "display_data",
          "data": {
            "text/plain": [
              "<Figure size 720x360 with 2 Axes>"
            ],
            "image/png": "[encoded data removed]"
          },
          "metadata": {
            "needs_background": "light"
          }
        }
      ]
    },
    {
      "cell_type": "markdown",
      "source": [
        "Power Transformer dari paket sklearn-learn menyediakan dua metode untuk membuat distribusi seperti gaussian\n",
        "- Boxcox\n",
        "- Yeo-johnson\n",
        "\n",
        "Kedua metode ini mencari nilai p yang tepat (seperti pada contoh di atas) agar distribusinya menjadi normal. Yeo-johnson adalah versi upgrade dari Boxcox karena berurusan dengan data dengan nilai negatif "
      ],
      "metadata": {
        "id": "uCtFKmp1AcOo"
      }
    },
    {
      "cell_type": "code",
      "source": [
        "pt = PowerTransformer(method='yeo-johnson')\n",
        "X_pt = pt.fit_transform(X_smote)\n",
        "X_pt"
      ],
      "metadata": {
        "execution": {
          "iopub.status.busy": "2021-11-01T11:33:28.444772Z",
          "iopub.execute_input": "2021-11-01T11:33:28.445013Z",
          "iopub.status.idle": "2021-11-01T11:33:28.488798Z",
          "shell.execute_reply.started": "2021-11-01T11:33:28.444978Z",
          "shell.execute_reply": "2021-11-01T11:33:28.487899Z"
        },
        "trusted": true,
        "id": "x1tXUPkhAcOo",
        "outputId": "9afccd8f-90c3-49eb-e188-a03ae7342667",
        "colab": {
          "base_uri": "https://localhost:8080/"
        }
      },
      "execution_count": 20,
      "outputs": [
        {
          "output_type": "execute_result",
          "data": {
            "text/plain": [
              "array([[ 1.0270975 , -0.78583069,  0.66513694, ...,  0.80647784,\n",
              "        -0.59062442, -2.09224159],\n",
              "       [-0.58656988, -0.78583069,  2.55729366, ...,  0.80647784,\n",
              "        -0.59062442, -1.97807977],\n",
              "       [ 0.26608504, -0.78583069, -0.60636642, ...,  0.80647784,\n",
              "         1.69312335, -1.9274372 ],\n",
              "       ...,\n",
              "       [ 0.10368013,  1.27253874,  0.53713399, ..., -1.23995968,\n",
              "        -0.59062442, -1.23081612],\n",
              "       [ 1.91177672,  1.27253874, -0.74622526, ...,  0.80647784,\n",
              "        -0.59062442, -0.95808655],\n",
              "       [-0.67793462,  1.27253874, -0.4004775 , ...,  0.80647784,\n",
              "        -0.59062442, -1.67628156]])"
            ]
          },
          "metadata": {},
          "execution_count": 20
        }
      ]
    },
    {
      "cell_type": "markdown",
      "source": [
        "## 3.3 Normalisasi Data\n",
        "\n",
        "Terakhir, normalkan data menggunakan min-max scaler yang menskalakan data ke kisaran 0-1. Penskalaan diperlukan untuk ML juga seperti SVM, regresi logistik, knn yang sensitif terhadap penskalaan dan outlier (berlaku untuk masalah klasifikasi dan regresi). "
      ],
      "metadata": {
        "id": "ubPF3u2iAcOp"
      }
    },
    {
      "cell_type": "code",
      "source": [
        "mm = MinMaxScaler()\n",
        "X_scaled = mm.fit_transform(X_pt)"
      ],
      "metadata": {
        "execution": {
          "iopub.status.busy": "2021-11-01T11:33:28.490393Z",
          "iopub.execute_input": "2021-11-01T11:33:28.490832Z",
          "iopub.status.idle": "2021-11-01T11:33:28.496307Z",
          "shell.execute_reply.started": "2021-11-01T11:33:28.490787Z",
          "shell.execute_reply": "2021-11-01T11:33:28.495396Z"
        },
        "trusted": true,
        "id": "4R2EXKY6AcOp"
      },
      "execution_count": 21,
      "outputs": []
    },
    {
      "cell_type": "markdown",
      "source": [
        "## 3.4  Distribusi Fitur Setelah Transformasi dan Penskalaan "
      ],
      "metadata": {
        "id": "T3CX42H7AcOq"
      }
    },
    {
      "cell_type": "code",
      "source": [
        "pd.DataFrame(X_scaled, columns=X.columns).hist(figsize=(10, 10))\n",
        "plt.show()"
      ],
      "metadata": {
        "execution": {
          "iopub.status.busy": "2021-11-01T11:33:28.497857Z",
          "iopub.execute_input": "2021-11-01T11:33:28.498127Z",
          "iopub.status.idle": "2021-11-01T11:33:29.964014Z",
          "shell.execute_reply.started": "2021-11-01T11:33:28.498077Z",
          "shell.execute_reply": "2021-11-01T11:33:29.963319Z"
        },
        "trusted": true,
        "id": "jWVlZtxAAcOq",
        "outputId": "16e7367e-e222-4610-ec77-1d850c7bfbe1",
        "colab": {
          "base_uri": "https://localhost:8080/",
          "height": 0
        }
      },
      "execution_count": 22,
      "outputs": [
        {
          "output_type": "display_data",
          "data": {
            "text/plain": [
              "<Figure size 720x720 with 12 Axes>"
            ],
            "image/png": "[encoded data removed]"
          },
          "metadata": {
            "needs_background": "light"
          }
        }
      ]
    },
    {
      "cell_type": "markdown",
      "source": [
        "## 3.5  Seleksi Fitur menggunakan Random Forest  "
      ],
      "metadata": {
        "id": "fPm2QfwTAcOr"
      }
    },
    {
      "cell_type": "code",
      "source": [
        "rf = RandomForestClassifier(n_estimators=100, max_depth=10, n_jobs=-1, \n",
        "                            class_weight='balanced', random_state=2021)\n",
        "rf.fit(X_scaled, y_smote)"
      ],
      "metadata": {
        "execution": {
          "iopub.status.busy": "2021-11-01T11:33:29.965225Z",
          "iopub.execute_input": "2021-11-01T11:33:29.965545Z",
          "iopub.status.idle": "2021-11-01T11:33:30.227522Z",
          "shell.execute_reply.started": "2021-11-01T11:33:29.965503Z",
          "shell.execute_reply": "2021-11-01T11:33:30.226821Z"
        },
        "trusted": true,
        "id": "v-dxqW-DAcOr",
        "outputId": "20b3d6f1-3d8d-4916-f1ee-e6e8de720316",
        "colab": {
          "base_uri": "https://localhost:8080/"
        }
      },
      "execution_count": 23,
      "outputs": [
        {
          "output_type": "execute_result",
          "data": {
            "text/plain": [
              "RandomForestClassifier(class_weight='balanced', max_depth=10, n_jobs=-1,\n",
              "                       random_state=2021)"
            ]
          },
          "metadata": {},
          "execution_count": 23
        }
      ]
    },
    {
      "cell_type": "code",
      "source": [
        "feature_imp = pd.DataFrame(np.round(rf.feature_importances_*100, 2), index=X.columns, columns=['importance%'])\n",
        "feature_imp = feature_imp.sort_values(by='importance%', ascending=False)\n",
        "feature_imp.plot(kind='barh', figsize=(8, 5))\n",
        "plt.xlabel('percentage')\n",
        "plt.show()"
      ],
      "metadata": {
        "execution": {
          "iopub.status.busy": "2021-11-01T11:33:30.228631Z",
          "iopub.execute_input": "2021-11-01T11:33:30.228882Z",
          "iopub.status.idle": "2021-11-01T11:33:30.57164Z",
          "shell.execute_reply.started": "2021-11-01T11:33:30.228847Z",
          "shell.execute_reply": "2021-11-01T11:33:30.570929Z"
        },
        "trusted": true,
        "id": "r07QhoQjAcOs",
        "outputId": "680465dc-89bb-4012-921f-32a529da283e",
        "colab": {
          "base_uri": "https://localhost:8080/",
          "height": 0
        }
      },
      "execution_count": 24,
      "outputs": [
        {
          "output_type": "display_data",
          "data": {
            "text/plain": [
              "<Figure size 576x360 with 1 Axes>"
            ],
            "image/png": "[encoded data removed]"
          },
          "metadata": {
            "needs_background": "light"
          }
        }
      ]
    },
    {
      "cell_type": "code",
      "source": [
        "imp_features = feature_imp.index[:3]\n",
        "imp_features"
      ],
      "metadata": {
        "execution": {
          "iopub.status.busy": "2021-11-01T11:33:30.572943Z",
          "iopub.execute_input": "2021-11-01T11:33:30.573367Z",
          "iopub.status.idle": "2021-11-01T11:33:30.579919Z",
          "shell.execute_reply.started": "2021-11-01T11:33:30.573327Z",
          "shell.execute_reply": "2021-11-01T11:33:30.579158Z"
        },
        "trusted": true,
        "id": "mBkZ25j9AcOs",
        "outputId": "1c515023-561d-4545-c09b-edd424b6ff5c",
        "colab": {
          "base_uri": "https://localhost:8080/"
        }
      },
      "execution_count": 25,
      "outputs": [
        {
          "output_type": "execute_result",
          "data": {
            "text/plain": [
              "Index(['time', 'serum_creatinine', 'ejection_fraction'], dtype='object')"
            ]
          },
          "metadata": {},
          "execution_count": 25
        }
      ]
    },
    {
      "cell_type": "code",
      "source": [
        "X_selected = pd.DataFrame(X_scaled, columns=X.columns)[imp_features]\n",
        "X_selected"
      ],
      "metadata": {
        "execution": {
          "iopub.status.busy": "2021-11-01T11:33:30.581382Z",
          "iopub.execute_input": "2021-11-01T11:33:30.581872Z",
          "iopub.status.idle": "2021-11-01T11:33:30.597279Z",
          "shell.execute_reply.started": "2021-11-01T11:33:30.58175Z",
          "shell.execute_reply": "2021-11-01T11:33:30.59639Z"
        },
        "trusted": true,
        "id": "TF5vkRYGAcOt",
        "outputId": "9b556693-b998-4b1f-df3d-9b16ec18063e",
        "colab": {
          "base_uri": "https://localhost:8080/",
          "height": 0
        }
      },
      "execution_count": 26,
      "outputs": [
        {
          "output_type": "execute_result",
          "data": {
            "text/plain": [
              "         time  serum_creatinine  ejection_fraction\n",
              "0    0.000000          0.737676           0.165986\n",
              "1    0.029502          0.489581           0.512213\n",
              "2    0.042589          0.575762           0.165986\n",
              "3    0.042589          0.737676           0.165986\n",
              "4    0.054846          0.845279           0.165986\n",
              "..        ...               ...                ...\n",
              "401  0.142785          0.527085           0.542704\n",
              "402  0.142785          0.856704           0.319941\n",
              "403  0.222609          0.436728           0.557539\n",
              "404  0.293088          0.492972           0.641457\n",
              "405  0.107492          0.465361           0.496532\n",
              "\n",
              "[406 rows x 3 columns]"
            ],
            "text/html": [
              "\n",
              "  <div id=\"df-3f9c9843-914c-4b55-a8f1-b504c815ace5\">\n",
              "    <div class=\"colab-df-container\">\n",
              "      <div>\n",
              "<style scoped>\n",
              "    .dataframe tbody tr th:only-of-type {\n",
              "        vertical-align: middle;\n",
              "    }\n",
              "\n",
              "    .dataframe tbody tr th {\n",
              "        vertical-align: top;\n",
              "    }\n",
              "\n",
              "    .dataframe thead th {\n",
              "        text-align: right;\n",
              "    }\n",
              "</style>\n",
              "<table border=\"1\" class=\"dataframe\">\n",
              "  <thead>\n",
              "    <tr style=\"text-align: right;\">\n",
              "      <th></th>\n",
              "      <th>time</th>\n",
              "      <th>serum_creatinine</th>\n",
              "      <th>ejection_fraction</th>\n",
              "    </tr>\n",
              "  </thead>\n",
              "  <tbody>\n",
              "    <tr>\n",
              "      <th>0</th>\n",
              "      <td>0.000000</td>\n",
              "      <td>0.737676</td>\n",
              "      <td>0.165986</td>\n",
              "    </tr>\n",
              "    <tr>\n",
              "      <th>1</th>\n",
              "      <td>0.029502</td>\n",
              "      <td>0.489581</td>\n",
              "      <td>0.512213</td>\n",
              "    </tr>\n",
              "    <tr>\n",
              "      <th>2</th>\n",
              "      <td>0.042589</td>\n",
              "      <td>0.575762</td>\n",
              "      <td>0.165986</td>\n",
              "    </tr>\n",
              "    <tr>\n",
              "      <th>3</th>\n",
              "      <td>0.042589</td>\n",
              "      <td>0.737676</td>\n",
              "      <td>0.165986</td>\n",
              "    </tr>\n",
              "    <tr>\n",
              "      <th>4</th>\n",
              "      <td>0.054846</td>\n",
              "      <td>0.845279</td>\n",
              "      <td>0.165986</td>\n",
              "    </tr>\n",
              "    <tr>\n",
              "      <th>...</th>\n",
              "      <td>...</td>\n",
              "      <td>...</td>\n",
              "      <td>...</td>\n",
              "    </tr>\n",
              "    <tr>\n",
              "      <th>401</th>\n",
              "      <td>0.142785</td>\n",
              "      <td>0.527085</td>\n",
              "      <td>0.542704</td>\n",
              "    </tr>\n",
              "    <tr>\n",
              "      <th>402</th>\n",
              "      <td>0.142785</td>\n",
              "      <td>0.856704</td>\n",
              "      <td>0.319941</td>\n",
              "    </tr>\n",
              "    <tr>\n",
              "      <th>403</th>\n",
              "      <td>0.222609</td>\n",
              "      <td>0.436728</td>\n",
              "      <td>0.557539</td>\n",
              "    </tr>\n",
              "    <tr>\n",
              "      <th>404</th>\n",
              "      <td>0.293088</td>\n",
              "      <td>0.492972</td>\n",
              "      <td>0.641457</td>\n",
              "    </tr>\n",
              "    <tr>\n",
              "      <th>405</th>\n",
              "      <td>0.107492</td>\n",
              "      <td>0.465361</td>\n",
              "      <td>0.496532</td>\n",
              "    </tr>\n",
              "  </tbody>\n",
              "</table>\n",
              "<p>406 rows × 3 columns</p>\n",
              "</div>\n",
              "      <button class=\"colab-df-convert\" onclick=\"convertToInteractive('df-3f9c9843-914c-4b55-a8f1-b504c815ace5')\"\n",
              "              title=\"Convert this dataframe to an interactive table.\"\n",
              "              style=\"display:none;\">\n",
              "        \n",
              "  <svg xmlns=\"http://www.w3.org/2000/svg\" height=\"24px\"viewBox=\"0 0 24 24\"\n",
              "       width=\"24px\">\n",
              "    <path d=\"M0 0h24v24H0V0z\" fill=\"none\"/>\n",
              "    <path d=\"M18.56 5.44l.94 2.06.94-2.06 2.06-.94-2.06-.94-.94-2.06-.94 2.06-2.06.94zm-11 1L8.5 8.5l.94-2.06 2.06-.94-2.06-.94L8.5 2.5l-.94 2.06-2.06.94zm10 10l.94 2.06.94-2.06 2.06-.94-2.06-.94-.94-2.06-.94 2.06-2.06.94z\"/><path d=\"M17.41 7.96l-1.37-1.37c-.4-.4-.92-.59-1.43-.59-.52 0-1.04.2-1.43.59L10.3 9.45l-7.72 7.72c-.78.78-.78 2.05 0 2.83L4 21.41c.39.39.9.59 1.41.59.51 0 1.02-.2 1.41-.59l7.78-7.78 2.81-2.81c.8-.78.8-2.07 0-2.86zM5.41 20L4 18.59l7.72-7.72 1.47 1.35L5.41 20z\"/>\n",
              "  </svg>\n",
              "      </button>\n",
              "      \n",
              "  <style>\n",
              "    .colab-df-container {\n",
              "      display:flex;\n",
              "      flex-wrap:wrap;\n",
              "      gap: 12px;\n",
              "    }\n",
              "\n",
              "    .colab-df-convert {\n",
              "      background-color: #E8F0FE;\n",
              "      border: none;\n",
              "      border-radius: 50%;\n",
              "      cursor: pointer;\n",
              "      display: none;\n",
              "      fill: #1967D2;\n",
              "      height: 32px;\n",
              "      padding: 0 0 0 0;\n",
              "      width: 32px;\n",
              "    }\n",
              "\n",
              "    .colab-df-convert:hover {\n",
              "      background-color: #E2EBFA;\n",
              "      box-shadow: 0px 1px 2px rgba(60, 64, 67, 0.3), 0px 1px 3px 1px rgba(60, 64, 67, 0.15);\n",
              "      fill: #174EA6;\n",
              "    }\n",
              "\n",
              "    [theme=dark] .colab-df-convert {\n",
              "      background-color: #3B4455;\n",
              "      fill: #D2E3FC;\n",
              "    }\n",
              "\n",
              "    [theme=dark] .colab-df-convert:hover {\n",
              "      background-color: #434B5C;\n",
              "      box-shadow: 0px 1px 3px 1px rgba(0, 0, 0, 0.15);\n",
              "      filter: drop-shadow(0px 1px 2px rgba(0, 0, 0, 0.3));\n",
              "      fill: #FFFFFF;\n",
              "    }\n",
              "  </style>\n",
              "\n",
              "      <script>\n",
              "        const buttonEl =\n",
              "          document.querySelector('#df-3f9c9843-914c-4b55-a8f1-b504c815ace5 button.colab-df-convert');\n",
              "        buttonEl.style.display =\n",
              "          google.colab.kernel.accessAllowed ? 'block' : 'none';\n",
              "\n",
              "        async function convertToInteractive(key) {\n",
              "          const element = document.querySelector('#df-3f9c9843-914c-4b55-a8f1-b504c815ace5');\n",
              "          const dataTable =\n",
              "            await google.colab.kernel.invokeFunction('convertToInteractive',\n",
              "                                                     [key], {});\n",
              "          if (!dataTable) return;\n",
              "\n",
              "          const docLinkHtml = 'Like what you see? Visit the ' +\n",
              "            '<a target=\"_blank\" href=https://colab.research.google.com/notebooks/data_table.ipynb>data table notebook</a>'\n",
              "            + ' to learn more about interactive tables.';\n",
              "          element.innerHTML = '';\n",
              "          dataTable['output_type'] = 'display_data';\n",
              "          await google.colab.output.renderOutput(dataTable, element);\n",
              "          const docLink = document.createElement('div');\n",
              "          docLink.innerHTML = docLinkHtml;\n",
              "          element.appendChild(docLink);\n",
              "        }\n",
              "      </script>\n",
              "    </div>\n",
              "  </div>\n",
              "  "
            ]
          },
          "metadata": {},
          "execution_count": 26
        }
      ]
    },
    {
      "cell_type": "markdown",
      "source": [
        "# 4. Pemodelan Data dan Hyperparameter\n",
        "\n",
        "Oleh karena itu, tujuannya sekarang adalah untuk memisahkan kedua kelas seperti yang ditunjukkan pada gambar di bawah ini\n",
        "\n",
        "**Catatan:** Semua pengklasifikasi telah disetel untuk memaksimalkan skor f1 alih-alih akurasi. Skor F1 adalah rata-rata harmonik dari recall dan presisi. Skor ini akan mendukung pengklasifikasi dengan presisi dan daya ingat yang sama. Saya bisa saja mencapai daya ingat atau presisi yang tinggi tetapi sayangnya, kita tidak dapat memilikinya dua arah karena meningkatkan presisi mengurangi daya ingat, dan sebaliknya. "
      ],
      "metadata": {
        "id": "5EEzzaBaAcOt"
      }
    },
    {
      "cell_type": "code",
      "source": [
        "model_data = X_selected\n",
        "model_data['target'] = y_smote\n",
        "model_data"
      ],
      "metadata": {
        "execution": {
          "iopub.status.busy": "2021-11-01T11:33:30.598829Z",
          "iopub.execute_input": "2021-11-01T11:33:30.599151Z",
          "iopub.status.idle": "2021-11-01T11:33:30.615122Z",
          "shell.execute_reply.started": "2021-11-01T11:33:30.599074Z",
          "shell.execute_reply": "2021-11-01T11:33:30.614172Z"
        },
        "trusted": true,
        "id": "2qvEM2YBAcOt",
        "outputId": "2adb058e-9db4-4c19-8c72-597f2c3a5269",
        "colab": {
          "base_uri": "https://localhost:8080/",
          "height": 424
        }
      },
      "execution_count": 27,
      "outputs": [
        {
          "output_type": "execute_result",
          "data": {
            "text/plain": [
              "         time  serum_creatinine  ejection_fraction  target\n",
              "0    0.000000          0.737676           0.165986       1\n",
              "1    0.029502          0.489581           0.512213       1\n",
              "2    0.042589          0.575762           0.165986       1\n",
              "3    0.042589          0.737676           0.165986       1\n",
              "4    0.054846          0.845279           0.165986       1\n",
              "..        ...               ...                ...     ...\n",
              "401  0.142785          0.527085           0.542704       1\n",
              "402  0.142785          0.856704           0.319941       1\n",
              "403  0.222609          0.436728           0.557539       1\n",
              "404  0.293088          0.492972           0.641457       1\n",
              "405  0.107492          0.465361           0.496532       1\n",
              "\n",
              "[406 rows x 4 columns]"
            ],
            "text/html": [
              "\n",
              "  <div id=\"df-aff4930b-04a4-4eef-a6e5-0fc3baa4032f\">\n",
              "    <div class=\"colab-df-container\">\n",
              "      <div>\n",
              "<style scoped>\n",
              "    .dataframe tbody tr th:only-of-type {\n",
              "        vertical-align: middle;\n",
              "    }\n",
              "\n",
              "    .dataframe tbody tr th {\n",
              "        vertical-align: top;\n",
              "    }\n",
              "\n",
              "    .dataframe thead th {\n",
              "        text-align: right;\n",
              "    }\n",
              "</style>\n",
              "<table border=\"1\" class=\"dataframe\">\n",
              "  <thead>\n",
              "    <tr style=\"text-align: right;\">\n",
              "      <th></th>\n",
              "      <th>time</th>\n",
              "      <th>serum_creatinine</th>\n",
              "      <th>ejection_fraction</th>\n",
              "      <th>target</th>\n",
              "    </tr>\n",
              "  </thead>\n",
              "  <tbody>\n",
              "    <tr>\n",
              "      <th>0</th>\n",
              "      <td>0.000000</td>\n",
              "      <td>0.737676</td>\n",
              "      <td>0.165986</td>\n",
              "      <td>1</td>\n",
              "    </tr>\n",
              "    <tr>\n",
              "      <th>1</th>\n",
              "      <td>0.029502</td>\n",
              "      <td>0.489581</td>\n",
              "      <td>0.512213</td>\n",
              "      <td>1</td>\n",
              "    </tr>\n",
              "    <tr>\n",
              "      <th>2</th>\n",
              "      <td>0.042589</td>\n",
              "      <td>0.575762</td>\n",
              "      <td>0.165986</td>\n",
              "      <td>1</td>\n",
              "    </tr>\n",
              "    <tr>\n",
              "      <th>3</th>\n",
              "      <td>0.042589</td>\n",
              "      <td>0.737676</td>\n",
              "      <td>0.165986</td>\n",
              "      <td>1</td>\n",
              "    </tr>\n",
              "    <tr>\n",
              "      <th>4</th>\n",
              "      <td>0.054846</td>\n",
              "      <td>0.845279</td>\n",
              "      <td>0.165986</td>\n",
              "      <td>1</td>\n",
              "    </tr>\n",
              "    <tr>\n",
              "      <th>...</th>\n",
              "      <td>...</td>\n",
              "      <td>...</td>\n",
              "      <td>...</td>\n",
              "      <td>...</td>\n",
              "    </tr>\n",
              "    <tr>\n",
              "      <th>401</th>\n",
              "      <td>0.142785</td>\n",
              "      <td>0.527085</td>\n",
              "      <td>0.542704</td>\n",
              "      <td>1</td>\n",
              "    </tr>\n",
              "    <tr>\n",
              "      <th>402</th>\n",
              "      <td>0.142785</td>\n",
              "      <td>0.856704</td>\n",
              "      <td>0.319941</td>\n",
              "      <td>1</td>\n",
              "    </tr>\n",
              "    <tr>\n",
              "      <th>403</th>\n",
              "      <td>0.222609</td>\n",
              "      <td>0.436728</td>\n",
              "      <td>0.557539</td>\n",
              "      <td>1</td>\n",
              "    </tr>\n",
              "    <tr>\n",
              "      <th>404</th>\n",
              "      <td>0.293088</td>\n",
              "      <td>0.492972</td>\n",
              "      <td>0.641457</td>\n",
              "      <td>1</td>\n",
              "    </tr>\n",
              "    <tr>\n",
              "      <th>405</th>\n",
              "      <td>0.107492</td>\n",
              "      <td>0.465361</td>\n",
              "      <td>0.496532</td>\n",
              "      <td>1</td>\n",
              "    </tr>\n",
              "  </tbody>\n",
              "</table>\n",
              "<p>406 rows × 4 columns</p>\n",
              "</div>\n",
              "      <button class=\"colab-df-convert\" onclick=\"convertToInteractive('df-aff4930b-04a4-4eef-a6e5-0fc3baa4032f')\"\n",
              "              title=\"Convert this dataframe to an interactive table.\"\n",
              "              style=\"display:none;\">\n",
              "        \n",
              "  <svg xmlns=\"http://www.w3.org/2000/svg\" height=\"24px\"viewBox=\"0 0 24 24\"\n",
              "       width=\"24px\">\n",
              "    <path d=\"M0 0h24v24H0V0z\" fill=\"none\"/>\n",
              "    <path d=\"M18.56 5.44l.94 2.06.94-2.06 2.06-.94-2.06-.94-.94-2.06-.94 2.06-2.06.94zm-11 1L8.5 8.5l.94-2.06 2.06-.94-2.06-.94L8.5 2.5l-.94 2.06-2.06.94zm10 10l.94 2.06.94-2.06 2.06-.94-2.06-.94-.94-2.06-.94 2.06-2.06.94z\"/><path d=\"M17.41 7.96l-1.37-1.37c-.4-.4-.92-.59-1.43-.59-.52 0-1.04.2-1.43.59L10.3 9.45l-7.72 7.72c-.78.78-.78 2.05 0 2.83L4 21.41c.39.39.9.59 1.41.59.51 0 1.02-.2 1.41-.59l7.78-7.78 2.81-2.81c.8-.78.8-2.07 0-2.86zM5.41 20L4 18.59l7.72-7.72 1.47 1.35L5.41 20z\"/>\n",
              "  </svg>\n",
              "      </button>\n",
              "      \n",
              "  <style>\n",
              "    .colab-df-container {\n",
              "      display:flex;\n",
              "      flex-wrap:wrap;\n",
              "      gap: 12px;\n",
              "    }\n",
              "\n",
              "    .colab-df-convert {\n",
              "      background-color: #E8F0FE;\n",
              "      border: none;\n",
              "      border-radius: 50%;\n",
              "      cursor: pointer;\n",
              "      display: none;\n",
              "      fill: #1967D2;\n",
              "      height: 32px;\n",
              "      padding: 0 0 0 0;\n",
              "      width: 32px;\n",
              "    }\n",
              "\n",
              "    .colab-df-convert:hover {\n",
              "      background-color: #E2EBFA;\n",
              "      box-shadow: 0px 1px 2px rgba(60, 64, 67, 0.3), 0px 1px 3px 1px rgba(60, 64, 67, 0.15);\n",
              "      fill: #174EA6;\n",
              "    }\n",
              "\n",
              "    [theme=dark] .colab-df-convert {\n",
              "      background-color: #3B4455;\n",
              "      fill: #D2E3FC;\n",
              "    }\n",
              "\n",
              "    [theme=dark] .colab-df-convert:hover {\n",
              "      background-color: #434B5C;\n",
              "      box-shadow: 0px 1px 3px 1px rgba(0, 0, 0, 0.15);\n",
              "      filter: drop-shadow(0px 1px 2px rgba(0, 0, 0, 0.3));\n",
              "      fill: #FFFFFF;\n",
              "    }\n",
              "  </style>\n",
              "\n",
              "      <script>\n",
              "        const buttonEl =\n",
              "          document.querySelector('#df-aff4930b-04a4-4eef-a6e5-0fc3baa4032f button.colab-df-convert');\n",
              "        buttonEl.style.display =\n",
              "          google.colab.kernel.accessAllowed ? 'block' : 'none';\n",
              "\n",
              "        async function convertToInteractive(key) {\n",
              "          const element = document.querySelector('#df-aff4930b-04a4-4eef-a6e5-0fc3baa4032f');\n",
              "          const dataTable =\n",
              "            await google.colab.kernel.invokeFunction('convertToInteractive',\n",
              "                                                     [key], {});\n",
              "          if (!dataTable) return;\n",
              "\n",
              "          const docLinkHtml = 'Like what you see? Visit the ' +\n",
              "            '<a target=\"_blank\" href=https://colab.research.google.com/notebooks/data_table.ipynb>data table notebook</a>'\n",
              "            + ' to learn more about interactive tables.';\n",
              "          element.innerHTML = '';\n",
              "          dataTable['output_type'] = 'display_data';\n",
              "          await google.colab.output.renderOutput(dataTable, element);\n",
              "          const docLink = document.createElement('div');\n",
              "          docLink.innerHTML = docLinkHtml;\n",
              "          element.appendChild(docLink);\n",
              "        }\n",
              "      </script>\n",
              "    </div>\n",
              "  </div>\n",
              "  "
            ]
          },
          "metadata": {},
          "execution_count": 27
        }
      ]
    },
    {
      "cell_type": "code",
      "source": [
        "px.scatter_3d(model_data, x='time', y='serum_creatinine', z='ejection_fraction', color='target')"
      ],
      "metadata": {
        "execution": {
          "iopub.status.busy": "2021-11-01T11:33:30.616653Z",
          "iopub.execute_input": "2021-11-01T11:33:30.616942Z",
          "iopub.status.idle": "2021-11-01T11:33:30.681577Z",
          "shell.execute_reply.started": "2021-11-01T11:33:30.616905Z",
          "shell.execute_reply": "2021-11-01T11:33:30.680956Z"
        },
        "trusted": true,
        "id": "bdcy-y4oAcOu",
        "outputId": "aa68ff54-b1ff-469e-e4e7-234501773731",
        "colab": {
          "base_uri": "https://localhost:8080/",
          "height": 542
        }
      },
      "execution_count": 28,
      "outputs": [
        {
          "output_type": "display_data",
          "data": {
            "text/html": [
              "<html>\n",
              "<head><meta charset=\"utf-8\" /></head>\n",
              "<body>\n",
              "    <div>            <script src=\"https://cdnjs.cloudflare.com/ajax/libs/mathjax/2.7.5/MathJax.js?config=TeX-AMS-MML_SVG\"></script><script type=\"text/javascript\">if (window.MathJax) {MathJax.Hub.Config({SVG: {font: \"STIX-Web\"}});}</script>                <script type=\"text/javascript\">window.PlotlyConfig = {MathJaxConfig: 'local'};</script>\n",
              "        <script src=\"https://cdn.plot.ly/plotly-2.8.3.min.js\"></script>                <div id=\"73bc1cd7-dcfd-4933-9442-9ec5d51242c3\" class=\"plotly-graph-div\" style=\"height:525px; width:100%;\"></div>            <script type=\"text/javascript\">                                    window.PLOTLYENV=window.PLOTLYENV || {};                                    if (document.getElementById(\"73bc1cd7-dcfd-4933-9442-9ec5d51242c3\")) {                    Plotly.newPlot(                        \"73bc1cd7-dcfd-4933-9442-9ec5d51242c3\",                        [{\"hovertemplate\":\"time=%{x}<br>serum_creatinine=%{y}<br>ejection_fraction=%{z}<br>target=%{marker.color}<extra></extra>\",\"legendgroup\":\"\",\"marker\":{\"color\":[1,1,1,1,1,1,1,1,1,1,1,1,1,1,0,1,1,1,1,1,0,1,1,0,1,1,1,1,1,1,1,1,1,0,1,1,1,1,0,1,1,1,1,0,1,1,1,1,1,1,1,1,1,1,1,1,0,0,1,1,1,1,0,1,0,1,1,1,1,1,0,0,1,0,1,1,0,0,0,0,0,0,1,0,1,0,0,0,0,0,0,0,0,1,0,0,0,0,0,0,0,0,0,0,0,1,0,0,0,0,1,0,0,1,0,0,0,0,0,1,0,0,0,0,1,0,1,0,0,0,0,0,0,0,0,0,0,0,0,0,1,0,0,0,1,0,0,0,1,0,1,0,0,0,0,0,0,0,0,0,0,0,0,1,1,1,0,1,0,0,0,0,0,0,0,0,0,0,0,0,0,1,1,1,1,1,1,1,0,0,0,0,0,0,1,1,0,0,0,0,0,0,0,0,0,0,0,0,0,0,0,0,0,1,0,0,0,1,0,0,1,0,0,0,0,0,0,0,0,0,1,0,0,0,0,0,0,0,0,0,0,0,0,0,0,0,1,0,0,0,0,0,0,0,0,0,0,0,0,0,0,0,1,0,0,0,1,0,0,0,0,0,0,0,0,0,0,0,0,0,0,0,0,0,0,0,0,0,0,0,0,0,0,0,0,0,0,0,0,1,1,1,1,1,1,1,1,1,1,1,1,1,1,1,1,1,1,1,1,1,1,1,1,1,1,1,1,1,1,1,1,1,1,1,1,1,1,1,1,1,1,1,1,1,1,1,1,1,1,1,1,1,1,1,1,1,1,1,1,1,1,1,1,1,1,1,1,1,1,1,1,1,1,1,1,1,1,1,1,1,1,1,1,1,1,1,1,1,1,1,1,1,1,1,1,1,1,1,1,1,1,1,1,1,1,1],\"coloraxis\":\"coloraxis\",\"symbol\":\"circle\"},\"mode\":\"markers\",\"name\":\"\",\"scene\":\"scene\",\"showlegend\":false,\"x\":[0.0,0.029501679655916768,0.042588726599506965,0.042588726599506965,0.05484600654454469,0.05484600654454469,0.07738519336316252,0.07738519336316252,0.07738519336316252,0.07738519336316252,0.07738519336316252,0.07738519336316252,0.08785014532675084,0.08785014532675084,0.09786874597410194,0.10749233015853649,0.11676313197336641,0.11676313197336641,0.12571639096778742,0.12571639096778742,0.13438187083764885,0.16662515454343885,0.16662515454343885,0.18154051843327218,0.18874411989346834,0.18874411989346834,0.19579259191516057,0.2094606613377314,0.2094606613377314,0.2094606613377314,0.21609638449097024,0.22260944357406987,0.22260944357406987,0.2290062224973758,0.2290062224973758,0.23529257280283156,0.23529257280283156,0.23529257280283156,0.23529257280283156,0.23529257280283156,0.24147387368397266,0.2475550835865204,0.253540784788547,0.253540784788547,0.253540784788547,0.2652423365527602,0.28217519249266176,0.2930881767797281,0.29844041458868675,0.30372649841930366,0.30894875652466136,0.30894875652466136,0.30894875652466136,0.3141093844482048,0.31921045535434317,0.3438875518323413,0.3627321458613998,0.3627321458613998,0.36733041756325535,0.38530771021609056,0.3897034043419691,0.3897034043419691,0.3897034043419691,0.3940616201492242,0.4026692459660909,0.4069203812006468,0.4111374924341857,0.4111374924341857,0.41532136139597653,0.4194727404975516,0.4235923543456951,0.43576746243389064,0.43976675287473566,0.43976675287473566,0.4437375304789184,0.4437375304789184,0.44768037977043473,0.44768037977043473,0.44768037977043473,0.44768037977043473,0.45159586568207183,0.45548453446036086,0.4593469145175551,0.46318351723437146,0.46318351723437146,0.46699483771692474,0.46699483771692474,0.46699483771692474,0.46699483771692474,0.46699483771692474,0.4707813555110097,0.4707813555110097,0.47828182742541947,0.47828182742541947,0.4819966687234961,0.4819966687234961,0.4819966687234961,0.48935768099671517,0.48935768099671517,0.4930046622611319,0.4966298142506007,0.4966298142506007,0.4966298142506007,0.4966298142506007,0.4966298142506007,0.5002335134834023,0.5002335134834023,0.5002335134834023,0.5002335134834023,0.5002335134834023,0.5073780069671386,0.5073780069671386,0.5073780069671386,0.5073780069671386,0.5109195026947868,0.5109195026947868,0.5214249960033663,0.5214249960033663,0.5214249960033663,0.524888224515286,0.524888224515286,0.524888224515286,0.524888224515286,0.524888224515286,0.5283326618106211,0.5317586020122043,0.541928269624231,0.55524545061857,0.55524545061857,0.5585331498142398,0.5618046890314987,0.5650602976257647,0.5650602976257647,0.5650602976257647,0.5650602976257647,0.5650602976257647,0.5650602976257647,0.5683001996086762,0.5683001996086762,0.5683001996086762,0.5715246138203693,0.5715246138203693,0.5715246138203693,0.5747337540946905,0.5779278294176907,0.5811070440797378,0.5811070440797378,0.5842715978215526,0.5842715978215526,0.5905574995951712,0.5905574995951712,0.5967870468656263,0.5998811423964429,0.6029616873921539,0.6060288533824669,0.6060288533824669,0.6060288533824669,0.6060288533824669,0.6090828083290749,0.6090828083290749,0.6090828083290749,0.6090828083290749,0.615151739710891,0.6241600589463998,0.633057906345949,0.6359999794987018,0.6476525389324999,0.6505374003916552,0.6647982585219606,0.6787973521760136,0.6787973521760136,0.6815669704505595,0.6815669704505595,0.6815669704505595,0.6815669704505595,0.6815669704505595,0.6843267655593804,0.6843267655593804,0.6843267655593804,0.6843267655593804,0.6870768383648393,0.692548212032781,0.7033785452929797,0.7246096753573682,0.7453032116149657,0.7478540380408708,0.7503971303220658,0.7503971303220658,0.7503971303220658,0.7554603832823866,0.7554603832823866,0.7554603832823866,0.7579806769383262,0.7704713921538437,0.7704713921538437,0.7704713921538437,0.7827831561566094,0.7852246835732049,0.7852246835732049,0.7852246835732049,0.7852246835732049,0.7852246835732049,0.7852246835732049,0.7876594012232417,0.7876594012232417,0.7876594012232417,0.7876594012232417,0.7876594012232417,0.7876594012232417,0.7876594012232417,0.7900873641715371,0.7997327448415759,0.7997327448415759,0.802127735037113,0.8045162859731896,0.8068984478519767,0.8092742702304527,0.8092742702304527,0.8116438020319252,0.8116438020319252,0.8140070915572885,0.8187151339369616,0.8210599803787795,0.8210599803787795,0.8303792660426,0.8303792660426,0.8303792660426,0.8326942850207564,0.8350034701587057,0.8350034701587057,0.8350034701587057,0.8373068640994971,0.8396045089721836,0.8396045089721836,0.8396045089721836,0.8396045089721836,0.8396045089721836,0.8418964464004326,0.8418964464004326,0.8441827175109524,0.8464633629417383,0.8464633629417383,0.8464633629417383,0.848738422850145,0.848738422850145,0.848738422850145,0.8510079369207877,0.8510079369207877,0.8510079369207877,0.8510079369207877,0.8510079369207877,0.8532719443732784,0.8532719443732784,0.8532719443732784,0.8532719443732784,0.8555304839697982,0.864510723440775,0.8865965923887831,0.8865965923887831,0.8887774760000141,0.8931245624512401,0.8931245624512401,0.8974522861967087,0.9017608964849029,0.9017608964849029,0.9081885064808863,0.9103217474797771,0.9166939906601244,0.9166939906601244,0.9166939906601244,0.9166939906601244,0.9166939906601244,0.918809006730861,0.918809006730861,0.918809006730861,0.918809006730861,0.918809006730861,0.9209195370513362,0.9209195370513362,0.9209195370513362,0.9230256092387904,0.9293173489903164,0.9293173489903164,0.9293173489903164,0.9293173489903164,0.9293173489903164,0.9293173489903164,0.9293173489903164,0.9417840639684181,0.9417840639684181,0.9438470139516902,0.945905791910767,0.945905791910767,0.9702943949843373,0.9702943949843373,0.9723010825217537,0.9862412948639292,0.9901905727894484,1.0,0.7193538739553882,0.2766090159399289,0.07738519336316252,0.19579259191516057,0.34866903393017745,0.43173905407917074,0.7193538739553882,0.7193538739553882,0.43976675287473566,0.6211697576841994,0.6418491401668507,0.19579259191516057,0.524888224515286,0.24147387368397266,0.7997327448415759,0.2930881767797281,0.13438187083764885,0.7654970046308411,0.24147387368397266,0.16662515454343885,0.3534027268535421,0.3141093844482048,0.4707813555110097,0.6301039890345372,0.2930881767797281,0.7503971303220658,0.2290062224973758,0.6562740722017896,0.11676313197336641,0.07738519336316252,0.5283326618106211,0.47828182742541947,0.15888878373347942,0.4194727404975516,0.5283326618106211,0.5650602976257647,0.18874411989346834,0.19579259191516057,0.22260944357406987,0.6241600589463998,0.2652423365527602,0.46318351723437146,0.4707813555110097,0.2290062224973758,0.541928269624231,0.23529257280283156,0.2094606613377314,0.33417541151223423,0.18154051843327218,0.2652423365527602,0.8303792660426,0.3292416619070576,0.5998811423964429,0.30894875652466136,0.3390568465922884,0.2290062224973758,0.6898172880248401,0.3292416619070576,0.615151739710891,0.15094760923940365,0.7033785452929797,0.4111374924341857,0.05484600654454469,0.6505374003916552,0.5874216859744658,0.38087358264835103,0.042588726599506965,0.5073780069671386,0.41532136139597653,0.45159586568207183,0.11676313197336641,0.042588726599506965,0.23529257280283156,0.5002335134834023,0.4966298142506007,0.25943522209262826,0.47828182742541947,0.20269528765560063,0.6121237167284546,0.3438875518323413,0.55524545061857,0.11676313197336641,0.23529257280283156,0.34866903393017745,0.7679878068831741,0.23529257280283156,0.6181670351358992,0.5109195026947868,0.6704285232933319,0.6704285232933319,0.34866903393017745,0.6476525389324999,0.2290062224973758,0.7604935024422108,0.23529257280283156,0.43976675287473566,0.5351663316925961,0.5715246138203693,0.6815669704505595,0.5842715978215526,0.30372649841930366,0.21609638449097024,0.14278497917085692,0.14278497917085692,0.22260944357406987,0.2930881767797281,0.10749233015853649],\"y\":[0.7376760691079551,0.4895810962038186,0.5757621663021545,0.7376760691079551,0.8452792956359276,0.7723257412935344,0.5355410595083147,0.4895810962038186,0.6424959882702446,1.0,0.9242419918108382,0.3755215964457921,0.4895810962038186,0.4895810962038186,0.4367282076386616,0.5757621663021545,0.3755215964457921,0.30409012524404433,0.4367282076386616,0.7376760691079551,0.5757621663021545,0.6703568646653761,0.3755215964457921,0.30409012524404433,0.7238215645135277,0.7376760691079551,0.4367282076386616,0.5757621663021545,0.9690637114736601,0.5355410595083147,0.7238215645135277,0.8703113407364071,0.4367282076386616,0.5355410595083147,0.4367282076386616,0.9016522165866641,0.4367282076386616,0.4367282076386616,0.800994640681531,0.8703113407364071,0.7238215645135277,0.5355410595083147,0.5355410595083147,0.4367282076386616,0.4895810962038186,0.7376760691079551,0.3755215964457921,0.12006909661082044,0.9380672333649227,0.4367282076386616,0.4367282076386616,0.6111660476675773,0.9819279455489895,0.4367282076386616,0.7873166562723767,0.7558471787173158,0.8452792956359276,0.12006909661082044,0.4895810962038186,0.5757621663021545,0.4367282076386616,0.800994640681531,0.4895810962038186,0.4367282076386616,0.5268413574201187,0.8625918046165675,0.5757621663021545,0.4367282076386616,0.5355410595083147,0.7238215645135277,0.30409012524404433,0.3755215964457921,0.4367282076386616,0.5757621663021545,0.5355410595083147,0.2200053479921617,0.30409012524404433,0.5355410595083147,0.12006909661082044,0.3755215964457921,0.6952450134461754,0.5268413574201187,0.8249899118415819,0.7175708324106597,0.4367282076386616,0.2200053479921617,0.4895810962038186,0.30409012524404433,0.2200053479921617,0.4895810962038186,0.30409012524404433,0.4367282076386616,0.5268413574201187,0.6952450134461754,0.2200053479921617,0.4367282076386616,0.5757621663021545,0.4895810962038186,0.5355410595083147,0.4895810962038186,0.4895810962038186,0.5268413574201187,0.4895810962038186,0.4367282076386616,0.800994640681531,0.6952450134461754,0.5757621663021545,0.3755215964457921,0.4895810962038186,0.5757621663021545,0.5355410595083147,0.5355410595083147,0.6703568646653761,0.5757621663021545,0.5355410595083147,0.4367282076386616,0.2200053479921617,0.884163804337532,0.3755215964457921,0.7238215645135277,0.6424959882702446,0.4367282076386616,0.26380817695203684,0.3755215964457921,0.9115356817510922,0.5757621663021545,0.7723257412935344,0.30409012524404433,0.2200053479921617,0.8962096685479564,0.2200053479921617,0.9734848088080161,0.5268413574201187,0.5757621663021545,0.5268413574201187,0.5268413574201187,0.3755215964457921,0.7723257412935344,0.4367282076386616,0.30409012524404433,0.4895810962038186,0.3755215964457921,0.3755215964457921,0.3755215964457921,0.6952450134461754,0.2200053479921617,0.2200053479921617,0.4367282076386616,0.7238215645135277,0.3755215964457921,0.8249899118415819,0.3755215964457921,0.3755215964457921,0.5268413574201187,0.30409012524404433,0.6952450134461754,0.6111660476675773,0.4367282076386616,0.5757621663021545,0.4895810962038186,0.5355410595083147,0.30409012524404433,0.3755215964457921,0.3755215964457921,0.4895810962038186,0.5757621663021545,0.2200053479921617,0.8135094211765366,0.4367282076386616,0.30409012524404433,0.6424959882702446,0.3755215964457921,0.4895810962038186,0.30409012524404433,0.3755215964457921,0.4367282076386616,0.4367282076386616,0.4367282076386616,0.5355410595083147,0.2200053479921617,0.3755215964457921,0.4367282076386616,0.5355410595083147,0.8249899118415819,0.5355410595083147,0.6424959882702446,0.12006909661082044,0.7723257412935344,0.4367282076386616,0.3755215964457921,0.7723257412935344,0.6424959882702446,0.2200053479921617,0.5268413574201187,0.6703568646653761,0.7175708324106597,0.5268413574201187,0.30409012524404433,0.4367282076386616,0.7175708324106597,0.2200053479921617,0.4367282076386616,0.3755215964457921,0.9016522165866641,0.2200053479921617,0.4367282076386616,0.30409012524404433,0.3755215964457921,0.4367282076386616,0.30409012524404433,0.4367282076386616,0.30409012524404433,0.6111660476675773,0.6703568646653761,0.30409012524404433,0.5757621663021545,0.3755215964457921,0.9980861347661855,0.4895810962038186,0.2200053479921617,0.7238215645135277,0.4895810962038186,0.4895810962038186,0.30409012524404433,0.4367282076386616,0.6111660476675773,0.5757621663021545,0.4367282076386616,0.9539507415582907,0.5355410595083147,0.6952450134461754,0.4895810962038186,0.3755215964457921,0.6111660476675773,0.4895810962038186,0.4895810962038186,0.4895810962038186,0.5355410595083147,0.4367282076386616,0.5268413574201187,0.5757621663021545,0.5757621663021545,0.4895810962038186,0.3755215964457921,0.7175708324106597,0.6111660476675773,0.4895810962038186,0.8135094211765366,0.4367282076386616,0.5355410595083147,0.0,0.30409012524404433,0.4367282076386616,0.5355410595083147,0.4367282076386616,0.4367282076386616,0.6952450134461754,0.4367282076386616,0.30409012524404433,0.2200053479921617,0.4367282076386616,0.2200053479921617,0.6111660476675773,0.4367282076386616,0.5355410595083147,0.3755215964457921,0.7238215645135277,0.6952450134461754,0.3755215964457921,0.4367282076386616,0.6703568646653761,0.3755215964457921,0.5355410595083147,0.2200053479921617,0.4367282076386616,0.30409012524404433,0.4895810962038186,0.4895810962038186,0.2200053479921617,0.5757621663021545,0.4367282076386616,0.8452792956359276,0.9160305794622243,0.4895810962038186,0.30409012524404433,0.5355410595083147,0.6952450134461754,0.4367282076386616,0.4895810962038186,0.3755215964457921,0.30409012524404433,0.6111660476675773,0.4367282076386616,0.3755215964457921,0.4895810962038186,0.5355410595083147,0.30409012524404433,0.6111660476675773,0.6703568646653761,0.5599201387124476,0.8491508000216332,0.3755215964457921,0.930979093752275,0.6670358815646664,0.8443549938797857,0.741687116722678,0.7097073106843718,0.8113211378857623,0.5319040351053006,0.8474119741075097,0.6072596575836476,0.7141420000064309,0.46905151205863405,0.7269259319836858,0.6906511298762703,0.4218057958562506,0.6809572369681675,0.8946161258967458,0.6203414380677283,0.4367282076386616,0.5231353092397052,0.7850084185986262,0.5806301447922864,0.34573132637777226,0.7712009641280392,0.4384159220563806,0.7105944995596503,0.5990614468287573,0.9308420353162288,0.7426377487125118,0.7238215645135277,0.7284014983015213,0.6867555616296366,0.828683420400934,0.5301948158442,0.4903653070448265,0.9249684213773511,0.6841332410129444,0.5862483492672756,0.9117898549079567,0.735552425898534,0.6640017512906969,0.8677663109182256,0.6368171698533835,0.5502194851317295,0.5780127798939448,0.7077775781682726,0.7126488446717048,0.9097551394845165,0.6016117521219058,0.4367282076386616,0.6315813861630538,0.6919022895366279,0.790723648457558,0.45920998444660877,0.1502895748432645,0.4367282076386616,0.8227062739344173,0.7013791065170367,0.7892337063912757,0.5732056608785572,0.5209073519362234,0.582244888289175,0.707576948750637,0.6433358055512527,0.7643478195391116,0.7238215645135277,0.7238215645135277,0.4895810962038186,0.5323030638663693,0.7465467749959562,0.8388326235053238,0.5280995864050065,0.5545262253534369,0.5595786938921452,0.8832384535322223,0.5552458659413242,0.7011032297245101,0.5266746366091959,0.7238215645135277,0.5359376485915975,0.71730861406903,0.5495728085642834,0.6898673779033534,0.612563021136092,0.7902796566632941,0.8524014786506131,0.5355410595083147,0.7270161408723324,0.7238215645135277,0.7766662639058562,0.4367282076386616,0.6674523703899462,0.8640812440910186,0.5308417354589473,0.9042483039498653,0.7238215645135277,0.6247058179954141,0.5773985863539007,0.5161714811774476,0.7238215645135277,0.5270851575062978,0.8567042632755199,0.4367282076386616,0.4929720819141939,0.4653614754487244],\"z\":[0.1659864061263871,0.5122126199076319,0.1659864061263871,0.1659864061263871,0.1659864061263871,0.5427037273666839,0.030717568786814364,0.7996197666999532,0.8538076511558202,0.4642321831457405,0.5122126199076319,0.27916925557035943,0.37724070391692005,0.5122126199076319,0.37724070391692005,0.680533335672516,0.5122126199076319,0.0,0.27916925557035943,0.7420434157648171,0.27916925557035943,0.37724070391692005,0.4642321831457405,0.7996197666999532,0.37724070391692005,0.5122126199076319,0.5427037273666839,0.614391801679078,0.5122126199076319,0.37724070391692005,0.5122126199076319,0.614391801679078,0.4642321831457405,0.37724070391692005,0.680533335672516,0.4642321831457405,0.680533335672516,0.680533335672516,0.37724070391692005,0.5122126199076319,0.1659864061263871,0.37724070391692005,0.614391801679078,0.680533335672516,0.7996197666999532,0.5122126199076319,0.27916925557035943,0.5122126199076319,0.1659864061263871,0.37724070391692005,0.27916925557035943,0.1659864061263871,0.8216750635033508,0.680533335672516,0.5122126199076319,0.37724070391692005,0.4642321831457405,0.5427037273666839,0.1659864061263871,0.1659864061263871,0.27916925557035943,0.5427037273666839,0.4642321831457405,0.4642321831457405,1.0000000000000002,0.1659864061263871,0.030717568786814364,0.27916925557035943,0.27916925557035943,0.27916925557035943,0.5427037273666839,0.4642321831457405,0.4642321831457405,0.680533335672516,0.1659864061263871,0.1659864061263871,0.7996197666999532,0.5427037273666839,0.5122126199076319,0.614391801679078,0.5427037273666839,0.680533335672516,0.27916925557035943,0.680533335672516,0.27916925557035943,0.680533335672516,0.4642321831457405,0.7996197666999532,0.5427037273666839,0.27916925557035943,0.614391801679078,0.614391801679078,0.7996197666999532,0.27916925557035943,0.5122126199076319,0.7996197666999532,0.27916925557035943,0.7996197666999532,0.27916925557035943,0.5427037273666839,0.27916925557035943,0.614391801679078,0.27916925557035943,0.37724070391692005,0.680533335672516,0.37724070391692005,0.614391801679078,0.4642321831457405,0.5122126199076319,0.4642321831457405,0.7996197666999532,0.4642321831457405,0.27916925557035943,0.7996197666999532,0.5427037273666839,0.5427037273666839,0.7996197666999532,0.7996197666999532,0.7996197666999532,0.5122126199076319,0.7996197666999532,0.5122126199076319,0.5122126199076319,0.37724070391692005,0.5427037273666839,0.680533335672516,0.08812943859238087,0.7996197666999532,0.37724070391692005,0.4642321831457405,0.7996197666999532,0.614391801679078,0.5427037273666839,0.7996197666999532,0.4642321831457405,0.5427037273666839,0.7996197666999532,0.27916925557035943,0.4642321831457405,0.37724070391692005,0.5122126199076319,0.4642321831457405,0.37724070391692005,0.5427037273666839,0.27916925557035943,0.37724070391692005,0.37724070391692005,0.7996197666999532,0.37724070391692005,0.4642321831457405,0.614391801679078,0.7996197666999532,0.614391801679078,0.4642321831457405,0.4642321831457405,0.27916925557035943,0.4642321831457405,0.27916925557035943,0.680533335672516,0.614391801679078,0.5427037273666839,0.4642321831457405,0.5427037273666839,0.4642321831457405,0.37724070391692005,0.5122126199076319,0.7996197666999532,0.1659864061263871,0.5427037273666839,0.4642321831457405,0.4642321831457405,0.5427037273666839,0.7996197666999532,0.1659864061263871,0.4642321831457405,0.7996197666999532,0.5427037273666839,0.680533335672516,0.7996197666999532,0.5427037273666839,0.37724070391692005,0.27916925557035943,0.27916925557035943,0.5122126199076319,0.27916925557035943,0.37724070391692005,0.680533335672516,0.27916925557035943,0.5427037273666839,0.614391801679078,0.4642321831457405,0.7996197666999532,0.5427037273666839,0.37724070391692005,0.1659864061263871,0.614391801679078,0.5122126199076319,0.37724070391692005,0.1659864061263871,0.4642321831457405,0.614391801679078,0.7996197666999532,0.7996197666999532,0.27916925557035943,0.5427037273666839,0.614391801679078,0.5427037273666839,0.5122126199076319,0.5427037273666839,0.4642321831457405,0.08812943859238087,0.8216750635033508,0.680533335672516,0.37724070391692005,0.4642321831457405,0.4642321831457405,0.680533335672516,0.9050420122815441,0.4642321831457405,0.4642321831457405,0.1659864061263871,0.680533335672516,0.4642321831457405,0.27916925557035943,0.27916925557035943,0.7996197666999532,0.27916925557035943,0.4642321831457405,0.27916925557035943,0.27916925557035943,0.37724070391692005,0.4642321831457405,0.4642321831457405,0.5122126199076319,0.614391801679078,0.680533335672516,0.680533335672516,0.37724070391692005,0.5427037273666839,0.614391801679078,0.4642321831457405,0.37724070391692005,0.4642321831457405,0.5427037273666839,0.5122126199076319,0.5122126199076319,0.27916925557035943,0.27916925557035943,0.4642321831457405,0.5427037273666839,0.37724070391692005,0.4642321831457405,0.614391801679078,0.4642321831457405,0.7996197666999532,0.37724070391692005,0.5122126199076319,0.5122126199076319,0.27916925557035943,0.680533335672516,0.5427037273666839,0.5427037273666839,0.27916925557035943,0.7996197666999532,0.5122126199076319,0.4642321831457405,0.1659864061263871,0.5122126199076319,0.5122126199076319,0.4642321831457405,0.37724070391692005,0.5427037273666839,0.5122126199076319,0.5427037273666839,0.37724070391692005,0.5122126199076319,0.4642321831457405,0.5122126199076319,0.37724070391692005,0.5122126199076319,0.5427037273666839,0.5427037273666839,0.37724070391692005,0.5122126199076319,0.5427037273666839,0.5427037273666839,0.4642321831457405,0.7420434157648171,0.4642321831457405,0.5122126199076319,0.7420434157648171,0.4642321831457405,0.5122126199076319,0.4642321831457405,0.5122126199076319,0.5122126199076319,0.7996197666999532,0.5122126199076319,0.614391801679078,0.37724070391692005,0.6414569102152072,0.27916925557035943,0.5122126199076319,0.4131997168168173,0.5427037273666839,0.27916925557035943,0.3586148148873363,0.27916925557035943,0.4642321831457405,0.49653193247284505,0.5864427540410133,0.5122126199076319,0.7420434157648171,0.3199411980510646,0.4305780597592666,0.4805433268530462,0.4131997168168173,0.11508105480675113,0.395427812069419,0.3199411980510646,0.27916925557035943,0.3586148148873363,0.37724070391692005,0.4131997168168173,0.5721148839809406,0.680533335672516,0.5275989917163317,0.4131997168168173,0.49653193247284505,0.33952438723380307,0.1659864061263871,0.4805433268530462,0.6414569102152072,0.1659864061263871,0.5122126199076319,0.5427037273666839,0.680533335672516,0.1659864061263871,0.37724070391692005,0.4642321831457405,0.4305780597592666,0.25790841612958487,0.614391801679078,0.5427037273666839,0.654677985888038,0.6005320111095526,0.395427812069419,0.4642321831457405,0.27916925557035943,0.33952438723380307,0.6280307318950715,0.2998342254966565,0.5122126199076319,0.4805433268530462,0.654677985888038,0.6005320111095526,0.395427812069419,0.1659864061263871,0.5427037273666839,0.21342590354700747,0.19010460783446875,0.11508105480675113,0.2998342254966565,0.4131997168168173,0.23600962116904856,0.4642321831457405,0.4805433268530462,0.1659864061263871,0.5122126199076319,0.7538540591409133,0.25790841612958487,0.614391801679078,0.5122126199076319,0.3199411980510646,0.030717568786814364,0.5427037273666839,0.5864427540410133,0.1659864061263871,0.2998342254966565,0.4805433268530462,0.030717568786814364,0.614391801679078,0.1659864061263871,0.23600962116904856,0.6414569102152072,0.1659864061263871,0.5721148839809406,0.25790841612958487,0.37724070391692005,0.27916925557035943,0.4305780597592666,0.6280307318950715,0.1659864061263871,0.37724070391692005,0.1659864061263871,0.5275989917163317,0.395427812069419,0.33952438723380307,0.33952438723380307,0.2998342254966565,0.37724070391692005,0.5427037273666839,0.3199411980510646,0.5575386666870156,0.6414569102152072,0.49653193247284505],\"type\":\"scatter3d\"}],                        {\"template\":{\"data\":{\"bar\":[{\"error_x\":{\"color\":\"#2a3f5f\"},\"error_y\":{\"color\":\"#2a3f5f\"},\"marker\":{\"line\":{\"color\":\"#E5ECF6\",\"width\":0.5},\"pattern\":{\"fillmode\":\"overlay\",\"size\":10,\"solidity\":0.2}},\"type\":\"bar\"}],\"barpolar\":[{\"marker\":{\"line\":{\"color\":\"#E5ECF6\",\"width\":0.5},\"pattern\":{\"fillmode\":\"overlay\",\"size\":10,\"solidity\":0.2}},\"type\":\"barpolar\"}],\"carpet\":[{\"aaxis\":{\"endlinecolor\":\"#2a3f5f\",\"gridcolor\":\"white\",\"linecolor\":\"white\",\"minorgridcolor\":\"white\",\"startlinecolor\":\"#2a3f5f\"},\"baxis\":{\"endlinecolor\":\"#2a3f5f\",\"gridcolor\":\"white\",\"linecolor\":\"white\",\"minorgridcolor\":\"white\",\"startlinecolor\":\"#2a3f5f\"},\"type\":\"carpet\"}],\"choropleth\":[{\"colorbar\":{\"outlinewidth\":0,\"ticks\":\"\"},\"type\":\"choropleth\"}],\"contour\":[{\"colorbar\":{\"outlinewidth\":0,\"ticks\":\"\"},\"colorscale\":[[0.0,\"#0d0887\"],[0.1111111111111111,\"#46039f\"],[0.2222222222222222,\"#7201a8\"],[0.3333333333333333,\"#9c179e\"],[0.4444444444444444,\"#bd3786\"],[0.5555555555555556,\"#d8576b\"],[0.6666666666666666,\"#ed7953\"],[0.7777777777777778,\"#fb9f3a\"],[0.8888888888888888,\"#fdca26\"],[1.0,\"#f0f921\"]],\"type\":\"contour\"}],\"contourcarpet\":[{\"colorbar\":{\"outlinewidth\":0,\"ticks\":\"\"},\"type\":\"contourcarpet\"}],\"heatmap\":[{\"colorbar\":{\"outlinewidth\":0,\"ticks\":\"\"},\"colorscale\":[[0.0,\"#0d0887\"],[0.1111111111111111,\"#46039f\"],[0.2222222222222222,\"#7201a8\"],[0.3333333333333333,\"#9c179e\"],[0.4444444444444444,\"#bd3786\"],[0.5555555555555556,\"#d8576b\"],[0.6666666666666666,\"#ed7953\"],[0.7777777777777778,\"#fb9f3a\"],[0.8888888888888888,\"#fdca26\"],[1.0,\"#f0f921\"]],\"type\":\"heatmap\"}],\"heatmapgl\":[{\"colorbar\":{\"outlinewidth\":0,\"ticks\":\"\"},\"colorscale\":[[0.0,\"#0d0887\"],[0.1111111111111111,\"#46039f\"],[0.2222222222222222,\"#7201a8\"],[0.3333333333333333,\"#9c179e\"],[0.4444444444444444,\"#bd3786\"],[0.5555555555555556,\"#d8576b\"],[0.6666666666666666,\"#ed7953\"],[0.7777777777777778,\"#fb9f3a\"],[0.8888888888888888,\"#fdca26\"],[1.0,\"#f0f921\"]],\"type\":\"heatmapgl\"}],\"histogram\":[{\"marker\":{\"pattern\":{\"fillmode\":\"overlay\",\"size\":10,\"solidity\":0.2}},\"type\":\"histogram\"}],\"histogram2d\":[{\"colorbar\":{\"outlinewidth\":0,\"ticks\":\"\"},\"colorscale\":[[0.0,\"#0d0887\"],[0.1111111111111111,\"#46039f\"],[0.2222222222222222,\"#7201a8\"],[0.3333333333333333,\"#9c179e\"],[0.4444444444444444,\"#bd3786\"],[0.5555555555555556,\"#d8576b\"],[0.6666666666666666,\"#ed7953\"],[0.7777777777777778,\"#fb9f3a\"],[0.8888888888888888,\"#fdca26\"],[1.0,\"#f0f921\"]],\"type\":\"histogram2d\"}],\"histogram2dcontour\":[{\"colorbar\":{\"outlinewidth\":0,\"ticks\":\"\"},\"colorscale\":[[0.0,\"#0d0887\"],[0.1111111111111111,\"#46039f\"],[0.2222222222222222,\"#7201a8\"],[0.3333333333333333,\"#9c179e\"],[0.4444444444444444,\"#bd3786\"],[0.5555555555555556,\"#d8576b\"],[0.6666666666666666,\"#ed7953\"],[0.7777777777777778,\"#fb9f3a\"],[0.8888888888888888,\"#fdca26\"],[1.0,\"#f0f921\"]],\"type\":\"histogram2dcontour\"}],\"mesh3d\":[{\"colorbar\":{\"outlinewidth\":0,\"ticks\":\"\"},\"type\":\"mesh3d\"}],\"parcoords\":[{\"line\":{\"colorbar\":{\"outlinewidth\":0,\"ticks\":\"\"}},\"type\":\"parcoords\"}],\"pie\":[{\"automargin\":true,\"type\":\"pie\"}],\"scatter\":[{\"marker\":{\"colorbar\":{\"outlinewidth\":0,\"ticks\":\"\"}},\"type\":\"scatter\"}],\"scatter3d\":[{\"line\":{\"colorbar\":{\"outlinewidth\":0,\"ticks\":\"\"}},\"marker\":{\"colorbar\":{\"outlinewidth\":0,\"ticks\":\"\"}},\"type\":\"scatter3d\"}],\"scattercarpet\":[{\"marker\":{\"colorbar\":{\"outlinewidth\":0,\"ticks\":\"\"}},\"type\":\"scattercarpet\"}],\"scattergeo\":[{\"marker\":{\"colorbar\":{\"outlinewidth\":0,\"ticks\":\"\"}},\"type\":\"scattergeo\"}],\"scattergl\":[{\"marker\":{\"colorbar\":{\"outlinewidth\":0,\"ticks\":\"\"}},\"type\":\"scattergl\"}],\"scattermapbox\":[{\"marker\":{\"colorbar\":{\"outlinewidth\":0,\"ticks\":\"\"}},\"type\":\"scattermapbox\"}],\"scatterpolar\":[{\"marker\":{\"colorbar\":{\"outlinewidth\":0,\"ticks\":\"\"}},\"type\":\"scatterpolar\"}],\"scatterpolargl\":[{\"marker\":{\"colorbar\":{\"outlinewidth\":0,\"ticks\":\"\"}},\"type\":\"scatterpolargl\"}],\"scatterternary\":[{\"marker\":{\"colorbar\":{\"outlinewidth\":0,\"ticks\":\"\"}},\"type\":\"scatterternary\"}],\"surface\":[{\"colorbar\":{\"outlinewidth\":0,\"ticks\":\"\"},\"colorscale\":[[0.0,\"#0d0887\"],[0.1111111111111111,\"#46039f\"],[0.2222222222222222,\"#7201a8\"],[0.3333333333333333,\"#9c179e\"],[0.4444444444444444,\"#bd3786\"],[0.5555555555555556,\"#d8576b\"],[0.6666666666666666,\"#ed7953\"],[0.7777777777777778,\"#fb9f3a\"],[0.8888888888888888,\"#fdca26\"],[1.0,\"#f0f921\"]],\"type\":\"surface\"}],\"table\":[{\"cells\":{\"fill\":{\"color\":\"#EBF0F8\"},\"line\":{\"color\":\"white\"}},\"header\":{\"fill\":{\"color\":\"#C8D4E3\"},\"line\":{\"color\":\"white\"}},\"type\":\"table\"}]},\"layout\":{\"annotationdefaults\":{\"arrowcolor\":\"#2a3f5f\",\"arrowhead\":0,\"arrowwidth\":1},\"autotypenumbers\":\"strict\",\"coloraxis\":{\"colorbar\":{\"outlinewidth\":0,\"ticks\":\"\"}},\"colorscale\":{\"diverging\":[[0,\"#8e0152\"],[0.1,\"#c51b7d\"],[0.2,\"#de77ae\"],[0.3,\"#f1b6da\"],[0.4,\"#fde0ef\"],[0.5,\"#f7f7f7\"],[0.6,\"#e6f5d0\"],[0.7,\"#b8e186\"],[0.8,\"#7fbc41\"],[0.9,\"#4d9221\"],[1,\"#276419\"]],\"sequential\":[[0.0,\"#0d0887\"],[0.1111111111111111,\"#46039f\"],[0.2222222222222222,\"#7201a8\"],[0.3333333333333333,\"#9c179e\"],[0.4444444444444444,\"#bd3786\"],[0.5555555555555556,\"#d8576b\"],[0.6666666666666666,\"#ed7953\"],[0.7777777777777778,\"#fb9f3a\"],[0.8888888888888888,\"#fdca26\"],[1.0,\"#f0f921\"]],\"sequentialminus\":[[0.0,\"#0d0887\"],[0.1111111111111111,\"#46039f\"],[0.2222222222222222,\"#7201a8\"],[0.3333333333333333,\"#9c179e\"],[0.4444444444444444,\"#bd3786\"],[0.5555555555555556,\"#d8576b\"],[0.6666666666666666,\"#ed7953\"],[0.7777777777777778,\"#fb9f3a\"],[0.8888888888888888,\"#fdca26\"],[1.0,\"#f0f921\"]]},\"colorway\":[\"#636efa\",\"#EF553B\",\"#00cc96\",\"#ab63fa\",\"#FFA15A\",\"#19d3f3\",\"#FF6692\",\"#B6E880\",\"#FF97FF\",\"#FECB52\"],\"font\":{\"color\":\"#2a3f5f\"},\"geo\":{\"bgcolor\":\"white\",\"lakecolor\":\"white\",\"landcolor\":\"#E5ECF6\",\"showlakes\":true,\"showland\":true,\"subunitcolor\":\"white\"},\"hoverlabel\":{\"align\":\"left\"},\"hovermode\":\"closest\",\"mapbox\":{\"style\":\"light\"},\"paper_bgcolor\":\"white\",\"plot_bgcolor\":\"#E5ECF6\",\"polar\":{\"angularaxis\":{\"gridcolor\":\"white\",\"linecolor\":\"white\",\"ticks\":\"\"},\"bgcolor\":\"#E5ECF6\",\"radialaxis\":{\"gridcolor\":\"white\",\"linecolor\":\"white\",\"ticks\":\"\"}},\"scene\":{\"xaxis\":{\"backgroundcolor\":\"#E5ECF6\",\"gridcolor\":\"white\",\"gridwidth\":2,\"linecolor\":\"white\",\"showbackground\":true,\"ticks\":\"\",\"zerolinecolor\":\"white\"},\"yaxis\":{\"backgroundcolor\":\"#E5ECF6\",\"gridcolor\":\"white\",\"gridwidth\":2,\"linecolor\":\"white\",\"showbackground\":true,\"ticks\":\"\",\"zerolinecolor\":\"white\"},\"zaxis\":{\"backgroundcolor\":\"#E5ECF6\",\"gridcolor\":\"white\",\"gridwidth\":2,\"linecolor\":\"white\",\"showbackground\":true,\"ticks\":\"\",\"zerolinecolor\":\"white\"}},\"shapedefaults\":{\"line\":{\"color\":\"#2a3f5f\"}},\"ternary\":{\"aaxis\":{\"gridcolor\":\"white\",\"linecolor\":\"white\",\"ticks\":\"\"},\"baxis\":{\"gridcolor\":\"white\",\"linecolor\":\"white\",\"ticks\":\"\"},\"bgcolor\":\"#E5ECF6\",\"caxis\":{\"gridcolor\":\"white\",\"linecolor\":\"white\",\"ticks\":\"\"}},\"title\":{\"x\":0.05},\"xaxis\":{\"automargin\":true,\"gridcolor\":\"white\",\"linecolor\":\"white\",\"ticks\":\"\",\"title\":{\"standoff\":15},\"zerolinecolor\":\"white\",\"zerolinewidth\":2},\"yaxis\":{\"automargin\":true,\"gridcolor\":\"white\",\"linecolor\":\"white\",\"ticks\":\"\",\"title\":{\"standoff\":15},\"zerolinecolor\":\"white\",\"zerolinewidth\":2}}},\"scene\":{\"domain\":{\"x\":[0.0,1.0],\"y\":[0.0,1.0]},\"xaxis\":{\"title\":{\"text\":\"time\"}},\"yaxis\":{\"title\":{\"text\":\"serum_creatinine\"}},\"zaxis\":{\"title\":{\"text\":\"ejection_fraction\"}}},\"coloraxis\":{\"colorbar\":{\"title\":{\"text\":\"target\"}},\"colorscale\":[[0.0,\"#0d0887\"],[0.1111111111111111,\"#46039f\"],[0.2222222222222222,\"#7201a8\"],[0.3333333333333333,\"#9c179e\"],[0.4444444444444444,\"#bd3786\"],[0.5555555555555556,\"#d8576b\"],[0.6666666666666666,\"#ed7953\"],[0.7777777777777778,\"#fb9f3a\"],[0.8888888888888888,\"#fdca26\"],[1.0,\"#f0f921\"]]},\"legend\":{\"tracegroupgap\":0},\"margin\":{\"t\":60}},                        {\"responsive\": true}                    ).then(function(){\n",
              "                            \n",
              "var gd = document.getElementById('73bc1cd7-dcfd-4933-9442-9ec5d51242c3');\n",
              "var x = new MutationObserver(function (mutations, observer) {{\n",
              "        var display = window.getComputedStyle(gd).display;\n",
              "        if (!display || display === 'none') {{\n",
              "            console.log([gd, 'removed!']);\n",
              "            Plotly.purge(gd);\n",
              "            observer.disconnect();\n",
              "        }}\n",
              "}});\n",
              "\n",
              "// Listen for the removal of the full notebook cells\n",
              "var notebookContainer = gd.closest('#notebook-container');\n",
              "if (notebookContainer) {{\n",
              "    x.observe(notebookContainer, {childList: true});\n",
              "}}\n",
              "\n",
              "// Listen for the clearing of the current output cell\n",
              "var outputEl = gd.closest('.output');\n",
              "if (outputEl) {{\n",
              "    x.observe(outputEl, {childList: true});\n",
              "}}\n",
              "\n",
              "                        })                };                            </script>        </div>\n",
              "</body>\n",
              "</html>"
            ]
          },
          "metadata": {}
        }
      ]
    },
    {
      "cell_type": "code",
      "source": [
        "X_train, X_test, y_train, y_test = train_test_split(model_data.drop(['target'], axis=1), \n",
        "                                                    model_data['target'], \n",
        "                                                    test_size=0.20, \n",
        "                                                    random_state=2021, \n",
        "                                                    stratify=model_data['target']\n",
        "                                                   )\n",
        "print(X_train.shape)\n",
        "print(y_train.shape)\n",
        "print(X_test.shape)\n",
        "print(y_test.shape)"
      ],
      "metadata": {
        "execution": {
          "iopub.status.busy": "2021-11-01T11:33:30.682761Z",
          "iopub.execute_input": "2021-11-01T11:33:30.683152Z",
          "iopub.status.idle": "2021-11-01T11:33:30.69372Z",
          "shell.execute_reply.started": "2021-11-01T11:33:30.683116Z",
          "shell.execute_reply": "2021-11-01T11:33:30.69279Z"
        },
        "trusted": true,
        "id": "FEnkSnfSAcOv",
        "outputId": "7fb6a306-58c4-4a9e-9f19-07d63a35b4e2",
        "colab": {
          "base_uri": "https://localhost:8080/"
        }
      },
      "execution_count": 29,
      "outputs": [
        {
          "output_type": "stream",
          "name": "stdout",
          "text": [
            "(324, 3)\n",
            "(324,)\n",
            "(82, 3)\n",
            "(82,)\n"
          ]
        }
      ]
    },
    {
      "cell_type": "markdown",
      "source": [
        "## 4.1 k-Nearest Neighbor Classifier\n",
        "\n",
        "Mari kita mulai dengan pelajar yang sederhana dan malas di mana suatu objek diklasifikasikan berdasarkan suara pluralitas tetangganya. "
      ],
      "metadata": {
        "id": "hyW7IU6rAcOv"
      }
    },
    {
      "cell_type": "code",
      "source": [
        "knn_clf = KNeighborsClassifier(n_jobs=-1)\n",
        "\n",
        "# Penyetelan hiperparameter \n",
        "\n",
        "knn_params = {\n",
        "    'n_neighbors': np.arange(2, 12)\n",
        "}\n",
        "knn_cv = GridSearchCV(knn_clf, knn_params, scoring='f1', n_jobs=-1, cv=10)\n",
        "knn_cv.fit(X_train, y_train)"
      ],
      "metadata": {
        "execution": {
          "iopub.status.busy": "2021-11-01T11:33:30.695534Z",
          "iopub.execute_input": "2021-11-01T11:33:30.695762Z",
          "iopub.status.idle": "2021-11-01T11:33:30.70191Z",
          "shell.execute_reply.started": "2021-11-01T11:33:30.695731Z",
          "shell.execute_reply": "2021-11-01T11:33:30.700719Z"
        },
        "trusted": true,
        "id": "ThI_0Z1JAcOv",
        "outputId": "34f59ad1-5d2a-4ee2-e4ac-3a8e7adc63ce",
        "colab": {
          "base_uri": "https://localhost:8080/"
        }
      },
      "execution_count": 30,
      "outputs": [
        {
          "output_type": "execute_result",
          "data": {
            "text/plain": [
              "GridSearchCV(cv=10, estimator=KNeighborsClassifier(n_jobs=-1), n_jobs=-1,\n",
              "             param_grid={'n_neighbors': array([ 2,  3,  4,  5,  6,  7,  8,  9, 10, 11])},\n",
              "             scoring='f1')"
            ]
          },
          "metadata": {},
          "execution_count": 30
        }
      ]
    },
    {
      "cell_type": "markdown",
      "source": [
        "### Nilai Optimal untuk Memaksimalkan Kinerja\n",
        "\n",
        "Oleh karena itu, skor f1 tertinggi dicapai dengan knn menggunakan 6 tetangga. "
      ],
      "metadata": {
        "id": "wEHlPpFbAcOw"
      }
    },
    {
      "cell_type": "code",
      "source": [
        "knn_cv.best_params_"
      ],
      "metadata": {
        "execution": {
          "iopub.status.busy": "2021-11-01T11:33:36.121037Z",
          "iopub.execute_input": "2021-11-01T11:33:36.121608Z",
          "iopub.status.idle": "2021-11-01T11:33:36.126688Z",
          "shell.execute_reply.started": "2021-11-01T11:33:36.121575Z",
          "shell.execute_reply": "2021-11-01T11:33:36.125807Z"
        },
        "trusted": true,
        "id": "59rnq6j4AcOw",
        "outputId": "e0420cbd-5f1a-4c93-8afa-c13f18eea2d4",
        "colab": {
          "base_uri": "https://localhost:8080/"
        }
      },
      "execution_count": 31,
      "outputs": [
        {
          "output_type": "execute_result",
          "data": {
            "text/plain": [
              "{'n_neighbors': 6}"
            ]
          },
          "metadata": {},
          "execution_count": 31
        }
      ]
    },
    {
      "cell_type": "markdown",
      "source": [
        "### Prediksi pada data pelatihan menggunakan prediksi lintas Val\n",
        "\n",
        "cross_val_predict() melakukan validasi silang K-fold, tetapi alih-alih mengembalikan skor evaluasi, ia mengembalikan prediksi yang dibuat pada setiap lipatan tes (iterasi). Ini berarti Anda mendapatkan prediksi yang jelas untuk setiap instance dalam set pelatihan. "
      ],
      "metadata": {
        "id": "ag1vuQBWAcOx"
      }
    },
    {
      "cell_type": "code",
      "source": [
        "knn_train_pred = cross_val_predict(knn_cv, X_train, y_train, cv=10, n_jobs=-1)\n",
        "knn_train_pred"
      ],
      "metadata": {
        "execution": {
          "iopub.status.busy": "2021-11-01T11:33:36.128236Z",
          "iopub.execute_input": "2021-11-01T11:33:36.128496Z",
          "iopub.status.idle": "2021-11-01T11:33:41.691703Z",
          "shell.execute_reply.started": "2021-11-01T11:33:36.128462Z",
          "shell.execute_reply": "2021-11-01T11:33:41.690995Z"
        },
        "trusted": true,
        "id": "VOSTtPC2AcOx",
        "outputId": "80ab07e3-bc79-41bb-fc53-7240fb06bccd",
        "colab": {
          "base_uri": "https://localhost:8080/"
        }
      },
      "execution_count": 32,
      "outputs": [
        {
          "output_type": "execute_result",
          "data": {
            "text/plain": [
              "array([1, 0, 1, 0, 1, 0, 1, 1, 1, 0, 0, 1, 0, 0, 0, 0, 0, 1, 1, 1, 1, 0,\n",
              "       1, 0, 1, 1, 1, 0, 1, 1, 0, 0, 1, 0, 1, 1, 0, 1, 1, 1, 1, 0, 0, 1,\n",
              "       0, 1, 0, 1, 1, 0, 1, 0, 0, 1, 0, 0, 1, 0, 1, 0, 1, 0, 0, 1, 0, 1,\n",
              "       1, 1, 0, 0, 1, 0, 1, 0, 0, 0, 1, 1, 1, 1, 0, 1, 1, 1, 0, 1, 1, 1,\n",
              "       0, 1, 0, 0, 1, 0, 0, 0, 0, 1, 1, 1, 0, 1, 1, 1, 1, 0, 0, 0, 0, 1,\n",
              "       1, 1, 1, 1, 0, 0, 1, 1, 0, 0, 1, 0, 1, 1, 0, 1, 1, 1, 0, 1, 1, 1,\n",
              "       0, 1, 1, 1, 1, 0, 1, 1, 1, 1, 1, 1, 0, 1, 1, 0, 0, 0, 1, 1, 1, 1,\n",
              "       1, 0, 1, 0, 0, 0, 0, 1, 0, 0, 0, 0, 1, 0, 0, 1, 0, 0, 0, 1, 1, 0,\n",
              "       0, 1, 1, 1, 0, 1, 1, 0, 1, 1, 1, 1, 1, 0, 1, 1, 1, 1, 1, 0, 1, 1,\n",
              "       0, 0, 1, 1, 1, 1, 0, 0, 0, 0, 0, 0, 1, 0, 0, 1, 1, 0, 1, 1, 0, 0,\n",
              "       0, 1, 1, 1, 1, 0, 0, 1, 0, 0, 1, 0, 0, 1, 1, 0, 0, 0, 1, 1, 1, 1,\n",
              "       1, 1, 0, 1, 1, 1, 0, 0, 0, 0, 0, 1, 0, 1, 1, 0, 1, 0, 0, 0, 0, 1,\n",
              "       0, 0, 0, 0, 1, 0, 0, 1, 0, 0, 0, 1, 0, 1, 0, 0, 0, 0, 1, 0, 0, 1,\n",
              "       0, 0, 0, 1, 0, 0, 1, 0, 1, 1, 0, 1, 0, 0, 0, 0, 1, 0, 0, 0, 1, 0,\n",
              "       1, 0, 0, 0, 1, 1, 1, 1, 1, 0, 0, 1, 0, 1, 0, 1])"
            ]
          },
          "metadata": {},
          "execution_count": 32
        }
      ]
    },
    {
      "cell_type": "markdown",
      "source": [
        "### Laporan Klasifikasi data pelatihan "
      ],
      "metadata": {
        "id": "z69MfprzAcOx"
      }
    },
    {
      "cell_type": "code",
      "source": [
        "print(classification_report(y_train, knn_train_pred, digits=4, target_names=['not gonna die', 'will die']))"
      ],
      "metadata": {
        "execution": {
          "iopub.status.busy": "2021-11-01T11:33:41.692946Z",
          "iopub.execute_input": "2021-11-01T11:33:41.693215Z",
          "iopub.status.idle": "2021-11-01T11:33:41.7051Z",
          "shell.execute_reply.started": "2021-11-01T11:33:41.693179Z",
          "shell.execute_reply": "2021-11-01T11:33:41.704255Z"
        },
        "trusted": true,
        "id": "Eh0AzE0KAcOy",
        "outputId": "96587446-47d5-4369-b465-fe8d2c7e793d",
        "colab": {
          "base_uri": "https://localhost:8080/"
        }
      },
      "execution_count": 33,
      "outputs": [
        {
          "output_type": "stream",
          "name": "stdout",
          "text": [
            "               precision    recall  f1-score   support\n",
            "\n",
            "not gonna die     0.8662    0.8395    0.8527       162\n",
            "     will die     0.8443    0.8704    0.8571       162\n",
            "\n",
            "     accuracy                         0.8549       324\n",
            "    macro avg     0.8553    0.8549    0.8549       324\n",
            " weighted avg     0.8553    0.8549    0.8549       324\n",
            "\n"
          ]
        }
      ]
    },
    {
      "cell_type": "markdown",
      "source": [
        "**Catatan:** Pendekatan serupa digunakan untuk semua pengklasifikasi di bawah ini."
      ],
      "metadata": {
        "id": "1uc0Wnc3AcOy"
      }
    },
    {
      "cell_type": "markdown",
      "source": [
        "## 4.2 Regresi Logistik\n",
        "\n",
        "Regresi logistik menggunakan fungsi logit untuk menghitung probabilitas hasil, dalam kasus kami, kelas target `` "
      ],
      "metadata": {
        "id": "LrIvokxaAcOz"
      }
    },
    {
      "cell_type": "code",
      "source": [
        "lr_clf = LogisticRegression(class_weight='balanced', random_state=2021, n_jobs=-1)"
      ],
      "metadata": {
        "execution": {
          "iopub.status.busy": "2021-11-01T11:33:41.706495Z",
          "iopub.execute_input": "2021-11-01T11:33:41.707304Z",
          "iopub.status.idle": "2021-11-01T11:33:41.711558Z",
          "shell.execute_reply.started": "2021-11-01T11:33:41.707259Z",
          "shell.execute_reply": "2021-11-01T11:33:41.710596Z"
        },
        "trusted": true,
        "id": "Yoo4lz35AcOz"
      },
      "execution_count": 34,
      "outputs": []
    },
    {
      "cell_type": "code",
      "source": [
        "# Penyetelan hyper-parameter menggunakan Pencarian Grid \n",
        "lr_params = {\n",
        "    'penalty': ['l1', 'l2', 'elasticnet'], \n",
        "    'C': [0.0001, 0.001, 0.01, 0.1, 1, 10, 100, 1000], \n",
        "    #'solver' : ['newton-cg', 'lbfgs', 'liblinear', 'sag', 'saga']\n",
        "}\n",
        "lr_cv = GridSearchCV(lr_clf, lr_params, scoring='f1', cv=10, n_jobs=-1)\n",
        "lr_cv.fit(X_train, y_train)\n",
        "\n",
        "# Nilai parameter terbaik untuk mencapai skor F1 tertinggi \n",
        "lr_cv.best_params_"
      ],
      "metadata": {
        "execution": {
          "iopub.status.busy": "2021-11-01T11:33:41.71303Z",
          "iopub.execute_input": "2021-11-01T11:33:41.713736Z",
          "iopub.status.idle": "2021-11-01T11:33:46.311749Z",
          "shell.execute_reply.started": "2021-11-01T11:33:41.713699Z",
          "shell.execute_reply": "2021-11-01T11:33:46.310956Z"
        },
        "trusted": true,
        "id": "rEYHjRAcAcOz",
        "outputId": "a7f39a81-ef36-45c1-fc62-45fac75aed32",
        "colab": {
          "base_uri": "https://localhost:8080/"
        }
      },
      "execution_count": 35,
      "outputs": [
        {
          "output_type": "stream",
          "name": "stderr",
          "text": [
            "/usr/local/lib/python3.7/dist-packages/sklearn/model_selection/_validation.py:372: FitFailedWarning:\n",
            "\n",
            "\n",
            "160 fits failed out of a total of 240.\n",
            "The score on these train-test partitions for these parameters will be set to nan.\n",
            "If these failures are not expected, you can try to debug them by setting error_score='raise'.\n",
            "\n",
            "Below are more details about the failures:\n",
            "--------------------------------------------------------------------------------\n",
            "80 fits failed with the following error:\n",
            "Traceback (most recent call last):\n",
            "  File \"/usr/local/lib/python3.7/dist-packages/sklearn/model_selection/_validation.py\", line 680, in _fit_and_score\n",
            "    estimator.fit(X_train, y_train, **fit_params)\n",
            "  File \"/usr/local/lib/python3.7/dist-packages/sklearn/linear_model/_logistic.py\", line 1461, in fit\n",
            "    solver = _check_solver(self.solver, self.penalty, self.dual)\n",
            "  File \"/usr/local/lib/python3.7/dist-packages/sklearn/linear_model/_logistic.py\", line 449, in _check_solver\n",
            "    % (solver, penalty)\n",
            "ValueError: Solver lbfgs supports only 'l2' or 'none' penalties, got l1 penalty.\n",
            "\n",
            "--------------------------------------------------------------------------------\n",
            "80 fits failed with the following error:\n",
            "Traceback (most recent call last):\n",
            "  File \"/usr/local/lib/python3.7/dist-packages/sklearn/model_selection/_validation.py\", line 680, in _fit_and_score\n",
            "    estimator.fit(X_train, y_train, **fit_params)\n",
            "  File \"/usr/local/lib/python3.7/dist-packages/sklearn/linear_model/_logistic.py\", line 1461, in fit\n",
            "    solver = _check_solver(self.solver, self.penalty, self.dual)\n",
            "  File \"/usr/local/lib/python3.7/dist-packages/sklearn/linear_model/_logistic.py\", line 449, in _check_solver\n",
            "    % (solver, penalty)\n",
            "ValueError: Solver lbfgs supports only 'l2' or 'none' penalties, got elasticnet penalty.\n",
            "\n",
            "\n",
            "/usr/local/lib/python3.7/dist-packages/sklearn/model_selection/_search.py:972: UserWarning:\n",
            "\n",
            "One or more of the test scores are non-finite: [       nan 0.82033096        nan        nan 0.81750838        nan\n",
            "        nan 0.82033096        nan        nan 0.82377182        nan\n",
            "        nan 0.8497748         nan        nan 0.84348993        nan\n",
            "        nan 0.83930274        nan        nan 0.83930274        nan]\n",
            "\n"
          ]
        },
        {
          "output_type": "execute_result",
          "data": {
            "text/plain": [
              "{'C': 1, 'penalty': 'l2'}"
            ]
          },
          "metadata": {},
          "execution_count": 35
        }
      ]
    },
    {
      "cell_type": "code",
      "source": [
        "# Prediksi pada data pelatihan menggunakan prediksi nilai silang\n",
        "lr_train_pred = cross_val_predict(lr_cv, X_train, y_train, cv=10, n_jobs=-1)\n",
        "\n",
        "# Laporan klasifikasi\n",
        "print(classification_report(y_train, lr_train_pred, digits=4, target_names=['not gonna die', 'will die']))"
      ],
      "metadata": {
        "execution": {
          "iopub.status.busy": "2021-11-01T11:33:46.313213Z",
          "iopub.execute_input": "2021-11-01T11:33:46.31346Z",
          "iopub.status.idle": "2021-11-01T11:33:54.212595Z",
          "shell.execute_reply.started": "2021-11-01T11:33:46.313427Z",
          "shell.execute_reply": "2021-11-01T11:33:54.211815Z"
        },
        "trusted": true,
        "id": "eDS4JfYXAcOz",
        "outputId": "2d4f4771-8c1d-435d-ec94-96bb7ba6feb0",
        "colab": {
          "base_uri": "https://localhost:8080/"
        }
      },
      "execution_count": 36,
      "outputs": [
        {
          "output_type": "stream",
          "name": "stdout",
          "text": [
            "               precision    recall  f1-score   support\n",
            "\n",
            "not gonna die     0.8373    0.8580    0.8476       162\n",
            "     will die     0.8544    0.8333    0.8438       162\n",
            "\n",
            "     accuracy                         0.8457       324\n",
            "    macro avg     0.8459    0.8457    0.8457       324\n",
            " weighted avg     0.8459    0.8457    0.8457       324\n",
            "\n"
          ]
        }
      ]
    },
    {
      "cell_type": "markdown",
      "source": [
        "## 4.3 Support Vector Machine (SVM)"
      ],
      "metadata": {
        "id": "a10-LEFJAcO0"
      }
    },
    {
      "cell_type": "markdown",
      "source": [
        "### Klasifikasi SVM Linear (Hard Margin)\n",
        "Seperti yang terlihat dari plot 3D data. Masalahnya sepertinya tidak dapat dipisahkan menggunakan hard margin svm karena ada beberapa kebisingan di kedua kelas. "
      ],
      "metadata": {
        "id": "hDrmns38AcO0"
      }
    },
    {
      "cell_type": "code",
      "source": [
        "lin_svm_clf = SVC(kernel='linear', class_weight='balanced', random_state=2021)\n",
        "\n",
        "params = {\n",
        "    'C': [0.001, 0.01, 0.1, 1, 10, 100, 1000], # deicison boundries\n",
        "}\n",
        "lin_svm_cv = GridSearchCV(lin_svm_clf, params, scoring='f1', n_jobs=-1, cv=10)\n",
        "lin_svm_cv.fit(X_train, y_train)\n",
        "\n",
        "lin_svm_cv.best_params_"
      ],
      "metadata": {
        "execution": {
          "iopub.status.busy": "2021-11-01T11:33:54.213749Z",
          "iopub.execute_input": "2021-11-01T11:33:54.214009Z",
          "iopub.status.idle": "2021-11-01T11:33:54.657267Z",
          "shell.execute_reply.started": "2021-11-01T11:33:54.213972Z",
          "shell.execute_reply": "2021-11-01T11:33:54.656572Z"
        },
        "trusted": true,
        "id": "FoCsuheSAcO0",
        "outputId": "fbb584a9-e866-40b3-d9e2-6c370538e701",
        "colab": {
          "base_uri": "https://localhost:8080/"
        }
      },
      "execution_count": 37,
      "outputs": [
        {
          "output_type": "execute_result",
          "data": {
            "text/plain": [
              "{'C': 1}"
            ]
          },
          "metadata": {},
          "execution_count": 37
        }
      ]
    },
    {
      "cell_type": "code",
      "source": [
        "lin_svm_train_pred = cross_val_predict(lin_svm_cv, X_train, y_train, cv=10, n_jobs=-1)\n",
        "print(classification_report(y_train, lin_svm_train_pred, digits=4, target_names=['not gonna die', 'will die']))"
      ],
      "metadata": {
        "execution": {
          "iopub.status.busy": "2021-11-01T11:33:54.658371Z",
          "iopub.execute_input": "2021-11-01T11:33:54.658816Z",
          "iopub.status.idle": "2021-11-01T11:33:58.274467Z",
          "shell.execute_reply.started": "2021-11-01T11:33:54.658777Z",
          "shell.execute_reply": "2021-11-01T11:33:58.273701Z"
        },
        "trusted": true,
        "id": "xcmylg0BAcO0",
        "outputId": "1708e136-2e49-4d61-e13c-44d8c063c98f",
        "colab": {
          "base_uri": "https://localhost:8080/"
        }
      },
      "execution_count": 38,
      "outputs": [
        {
          "output_type": "stream",
          "name": "stdout",
          "text": [
            "               precision    recall  f1-score   support\n",
            "\n",
            "not gonna die     0.8476    0.8580    0.8528       162\n",
            "     will die     0.8562    0.8457    0.8509       162\n",
            "\n",
            "     accuracy                         0.8519       324\n",
            "    macro avg     0.8519    0.8519    0.8518       324\n",
            " weighted avg     0.8519    0.8519    0.8518       324\n",
            "\n"
          ]
        }
      ]
    },
    {
      "cell_type": "markdown",
      "source": [
        "### Klasifikasi Non-Linear (Soft Margin)"
      ],
      "metadata": {
        "id": "PL1DTRqKAcO1"
      }
    },
    {
      "cell_type": "code",
      "source": [
        "rbf_svm = SVC(kernel='rbf', class_weight='balanced')\n",
        "\n",
        "params = {\n",
        "    'C': [0.001, 0.01, 0.1, 1, 10, 100, 1000], # deicison boundries\n",
        "}\n",
        "rbf_svm_cv = GridSearchCV(rbf_svm, params, scoring='f1', n_jobs=-1, cv=10)\n",
        "rbf_svm_cv.fit(X_train, y_train)\n",
        "\n",
        "rbf_svm_cv.best_params_"
      ],
      "metadata": {
        "execution": {
          "iopub.status.busy": "2021-11-01T11:33:58.275746Z",
          "iopub.execute_input": "2021-11-01T11:33:58.276172Z",
          "iopub.status.idle": "2021-11-01T11:33:58.847617Z",
          "shell.execute_reply.started": "2021-11-01T11:33:58.276133Z",
          "shell.execute_reply": "2021-11-01T11:33:58.846914Z"
        },
        "trusted": true,
        "id": "Jxry5jBvAcO1",
        "outputId": "267aa177-b014-4d77-f04a-9113b3b66fc3",
        "colab": {
          "base_uri": "https://localhost:8080/"
        }
      },
      "execution_count": 39,
      "outputs": [
        {
          "output_type": "execute_result",
          "data": {
            "text/plain": [
              "{'C': 1}"
            ]
          },
          "metadata": {},
          "execution_count": 39
        }
      ]
    },
    {
      "cell_type": "code",
      "source": [
        "rbf_svm_train_pred = cross_val_predict(rbf_svm_cv, X_train, y_train, cv=10, n_jobs=-1)\n",
        "print(classification_report(y_train, rbf_svm_train_pred, digits=4, target_names=['not gonna die', 'will die']))"
      ],
      "metadata": {
        "execution": {
          "iopub.status.busy": "2021-11-01T11:33:58.848864Z",
          "iopub.execute_input": "2021-11-01T11:33:58.84929Z",
          "iopub.status.idle": "2021-11-01T11:34:04.23354Z",
          "shell.execute_reply.started": "2021-11-01T11:33:58.849249Z",
          "shell.execute_reply": "2021-11-01T11:34:04.232781Z"
        },
        "trusted": true,
        "id": "ioPe-Q_3AcO1",
        "outputId": "750432ab-5a84-4258-ddaf-f696ebab3ce2",
        "colab": {
          "base_uri": "https://localhost:8080/"
        }
      },
      "execution_count": 40,
      "outputs": [
        {
          "output_type": "stream",
          "name": "stdout",
          "text": [
            "               precision    recall  f1-score   support\n",
            "\n",
            "not gonna die     0.8645    0.8272    0.8454       162\n",
            "     will die     0.8343    0.8704    0.8520       162\n",
            "\n",
            "     accuracy                         0.8488       324\n",
            "    macro avg     0.8494    0.8488    0.8487       324\n",
            " weighted avg     0.8494    0.8488    0.8487       324\n",
            "\n"
          ]
        }
      ]
    },
    {
      "cell_type": "markdown",
      "source": [
        "## 4.4 Pohon Keputusan (Decision Tree) \n",
        "\n",
        "- Memerlukan sedikit persiapan data dan tidak memerlukan penskalaan atau pemusatan fitur.\n",
        "- Sederhana untuk dipahami dan diinterpretasikan.\n",
        "- Pohon Keputusan seringkali memiliki keputusan ortogonal (semua pemisahan tegak lurus terhadap sumbu), yang membuatnya sensitif terhadap rotasi set pelatihan. Sangat mungkin bahwa model tidak akan menggeneralisasi dengan baik. Salah satu cara untuk membatasi masalah ini adalah dengan menggunakan Analisis Komponen Utama yang seringkali menghasilkan orientasi yang lebih baik dari data pelatihan.\n",
        "- Masalah utama dengan Pohon Keputusan adalah bahwa mereka sangat sensitif terhadap variasi kecil dalam data pelatihan. \n",
        "- Random Forests dapat membatasi ketidakstabilan ini dengan membuat prediksi rata-rata pada banyak pohon. "
      ],
      "metadata": {
        "id": "20lLGVUvAcO1"
      }
    },
    {
      "cell_type": "code",
      "source": [
        "dt_clf = DecisionTreeClassifier(class_weight='balanced', random_state=2021)\n",
        "\n",
        "params = {\n",
        "    'criterion': ['gini', 'entropy'], \n",
        "    'max_depth': np.arange(2, 22, 2), # depth of tree\n",
        "    'min_samples_split': [2, 3, 4], # min. no. of samples a node must have before it splits \n",
        "    'min_samples_leaf': [1, 2, 3, 4] # min. non of samples a leaf node must have\n",
        "}\n",
        "dt_cv = GridSearchCV(dt_clf, params, scoring='f1', n_jobs=-1, cv=10)\n",
        "dt_cv.fit(X_train, y_train)\n",
        "\n",
        "dt_cv.best_params_"
      ],
      "metadata": {
        "execution": {
          "iopub.status.busy": "2021-11-01T11:34:04.234835Z",
          "iopub.execute_input": "2021-11-01T11:34:04.235151Z",
          "iopub.status.idle": "2021-11-01T11:34:13.97647Z",
          "shell.execute_reply.started": "2021-11-01T11:34:04.235089Z",
          "shell.execute_reply": "2021-11-01T11:34:13.975745Z"
        },
        "trusted": true,
        "id": "LWIB4znrAcO2",
        "outputId": "aaaed5f2-efe4-4706-b27b-cfe02be0f01b",
        "colab": {
          "base_uri": "https://localhost:8080/"
        }
      },
      "execution_count": 46,
      "outputs": [
        {
          "output_type": "execute_result",
          "data": {
            "text/plain": [
              "{'criterion': 'gini',\n",
              " 'max_depth': 6,\n",
              " 'min_samples_leaf': 2,\n",
              " 'min_samples_split': 2}"
            ]
          },
          "metadata": {},
          "execution_count": 46
        }
      ]
    },
    {
      "cell_type": "code",
      "source": [
        "dt_train_pred = cross_val_predict(dt_cv, X_train, y_train, cv=10, n_jobs=-1)\n",
        "\n",
        "best_dt_clf = DecisionTreeClassifier(class_weight='balanced', random_state=2021, \n",
        "                                    max_depth=4, criterion='entropy', min_samples_split=2, \n",
        "                                     min_samples_leaf= 1)\n",
        "\n",
        "best_dt_clf.fit(X_train, y_train)"
      ],
      "metadata": {
        "execution": {
          "iopub.status.busy": "2021-11-01T11:34:13.977931Z",
          "iopub.execute_input": "2021-11-01T11:34:13.978498Z",
          "iopub.status.idle": "2021-11-01T11:35:47.670722Z",
          "shell.execute_reply.started": "2021-11-01T11:34:13.978455Z",
          "shell.execute_reply": "2021-11-01T11:35:47.669998Z"
        },
        "trusted": true,
        "id": "4diTHecYAcO3",
        "outputId": "b5e59c5b-a1a4-4a8c-df09-cbcc4afad988",
        "colab": {
          "base_uri": "https://localhost:8080/"
        }
      },
      "execution_count": 47,
      "outputs": [
        {
          "output_type": "execute_result",
          "data": {
            "text/plain": [
              "DecisionTreeClassifier(class_weight='balanced', criterion='entropy',\n",
              "                       max_depth=4, random_state=2021)"
            ]
          },
          "metadata": {},
          "execution_count": 47
        }
      ]
    },
    {
      "cell_type": "code",
      "source": [
        "plt.figure(figsize=(15, 6))\n",
        "plot_tree(best_dt_clf, filled=True, \n",
        "          #feature_names=['time', 'serum_creatinine', 'ejection_fraction']\n",
        "         )\n",
        "plt.show()"
      ],
      "metadata": {
        "execution": {
          "iopub.status.busy": "2021-11-01T11:35:47.672224Z",
          "iopub.execute_input": "2021-11-01T11:35:47.672711Z",
          "iopub.status.idle": "2021-11-01T11:35:48.701278Z",
          "shell.execute_reply.started": "2021-11-01T11:35:47.672671Z",
          "shell.execute_reply": "2021-11-01T11:35:48.7006Z"
        },
        "trusted": true,
        "id": "MlKycGtCAcO4",
        "outputId": "67c566ae-f949-4417-b1f6-60fcbb8ba360",
        "colab": {
          "base_uri": "https://localhost:8080/",
          "height": 0
        }
      },
      "execution_count": 48,
      "outputs": [
        {
          "output_type": "display_data",
          "data": {
            "text/plain": [
              "<Figure size 1080x432 with 1 Axes>"
            ],
            "image/png": "[encoded data removed]"
          },
          "metadata": {
            "needs_background": "light"
          }
        }
      ]
    },
    {
      "cell_type": "markdown",
      "source": [
        "## 4.5 Random Forests\n",
        "\n",
        "- Ini adalah ansambel (kelompok prediktor) dari pohon keputusan.\n",
        "- Ia memiliki semua hyperparameters dari pohon keputusan "
      ],
      "metadata": {
        "id": "tT9zphwtAcO4"
      }
    },
    {
      "cell_type": "code",
      "source": [
        "rf = RandomForestClassifier(n_jobs=-1, random_state=2021, class_weight='balanced')\n",
        "\n",
        "params = {\n",
        "    #'n_estimators': [100, 200, 300], \n",
        "    'max_depth': np.arange(2, 22, 1), \n",
        "    #'min_samples_split': [2, 3, 4], \n",
        "    #'min_samples_leaf': [1, 2, 3, 4], \n",
        "    'criterion': ['gini', 'entropy']\n",
        "}\n",
        "rf_cv = RandomizedSearchCV(rf, params, scoring='f1', n_jobs=-1, cv=10, random_state=2021, n_iter=20)\n",
        "rf_cv.fit(X_train, y_train)\n",
        "\n",
        "rf_cv.best_params_rf_train_pred = cross_val_predict(rf_cv, X_train, y_train, cv=10, n_jobs=-1, verbose=1)"
      ],
      "metadata": {
        "execution": {
          "iopub.status.busy": "2021-11-01T11:35:48.702329Z",
          "iopub.execute_input": "2021-11-01T11:35:48.702711Z",
          "iopub.status.idle": "2021-11-01T11:41:09.423744Z",
          "shell.execute_reply.started": "2021-11-01T11:35:48.702674Z",
          "shell.execute_reply": "2021-11-01T11:41:09.423008Z"
        },
        "trusted": true,
        "id": "lzSafZG6AcO4",
        "outputId": "20bfa47a-182e-4e94-faed-b7541561603c",
        "colab": {
          "base_uri": "https://localhost:8080/"
        }
      },
      "execution_count": 43,
      "outputs": [
        {
          "output_type": "stream",
          "name": "stderr",
          "text": [
            "[Parallel(n_jobs=-1)]: Using backend LokyBackend with 2 concurrent workers.\n",
            "[Parallel(n_jobs=-1)]: Done  10 out of  10 | elapsed:  4.5min finished\n"
          ]
        }
      ]
    },
    {
      "cell_type": "code",
      "source": [
        "rf_train_pred = cross_val_predict(rf_cv, X_train, y_train, cv=10, n_jobs=-1, verbose=1)"
      ],
      "metadata": {
        "execution": {
          "iopub.status.busy": "2021-11-01T11:41:09.425242Z",
          "iopub.execute_input": "2021-11-01T11:41:09.425463Z",
          "iopub.status.idle": "2021-11-01T11:45:49.308342Z",
          "shell.execute_reply.started": "2021-11-01T11:41:09.425429Z",
          "shell.execute_reply": "2021-11-01T11:45:49.306432Z"
        },
        "trusted": true,
        "id": "5hrOwOGEAcO5",
        "outputId": "15c859c7-f399-456a-98d0-5001aeb281fe",
        "colab": {
          "base_uri": "https://localhost:8080/"
        }
      },
      "execution_count": 44,
      "outputs": [
        {
          "output_type": "stream",
          "name": "stderr",
          "text": [
            "[Parallel(n_jobs=-1)]: Using backend LokyBackend with 2 concurrent workers.\n",
            "[Parallel(n_jobs=-1)]: Done  10 out of  10 | elapsed:  4.4min finished\n"
          ]
        }
      ]
    },
    {
      "cell_type": "code",
      "source": [
        "print(classification_report(y_train, rf_train_pred, digits=4, target_names=['not gonna die', 'will die']))"
      ],
      "metadata": {
        "execution": {
          "iopub.status.busy": "2021-11-01T11:45:49.309647Z",
          "iopub.execute_input": "2021-11-01T11:45:49.309888Z",
          "iopub.status.idle": "2021-11-01T11:45:49.321074Z",
          "shell.execute_reply.started": "2021-11-01T11:45:49.309854Z",
          "shell.execute_reply": "2021-11-01T11:45:49.320329Z"
        },
        "trusted": true,
        "id": "_YSfwvXIAcO5",
        "outputId": "efcfc49f-0103-4dbf-9add-55ea997a6fd9",
        "colab": {
          "base_uri": "https://localhost:8080/"
        }
      },
      "execution_count": 45,
      "outputs": [
        {
          "output_type": "stream",
          "name": "stdout",
          "text": [
            "               precision    recall  f1-score   support\n",
            "\n",
            "not gonna die     0.8889    0.8889    0.8889       162\n",
            "     will die     0.8889    0.8889    0.8889       162\n",
            "\n",
            "     accuracy                         0.8889       324\n",
            "    macro avg     0.8889    0.8889    0.8889       324\n",
            " weighted avg     0.8889    0.8889    0.8889       324\n",
            "\n"
          ]
        }
      ]
    },
    {
      "cell_type": "markdown",
      "source": [
        "# 5. Evaluasi Model\n",
        "\n",
        "Random Forest telah mengungguli semua pengklasifikasi lainnya dalam akurasi, presisi, daya ingat, skor f1, dan skor AUC. "
      ],
      "metadata": {
        "id": "x7W_0PnxAcO5"
      }
    },
    {
      "cell_type": "code",
      "source": [
        "models = ['kNN', 'Logistic Regression', 'Linear SVM', 'Non-Linear SVM', \n",
        "          'Decision Tree', 'Random Forest']\n",
        "model_colors = sns.color_palette(\"Dark2\")\n",
        "accuracy = []\n",
        "recall = []\n",
        "precision = []\n",
        "f1 = []\n",
        "auc = []\n",
        "predictions = [knn_train_pred, lr_train_pred, lin_svm_train_pred, \n",
        "               rbf_svm_train_pred, dt_train_pred, rf_train_pred]\n",
        "\n",
        "for model_pred in predictions:\n",
        "    accuracy.append(accuracy_score(y_train, model_pred))\n",
        "    precision.append(precision_score(y_train, model_pred))\n",
        "    recall.append(recall_score(y_train, model_pred))\n",
        "    f1.append(f1_score(y_train, model_pred))\n",
        "    auc.append(roc_auc_score(y_train, model_pred))"
      ],
      "metadata": {
        "execution": {
          "iopub.status.busy": "2021-11-01T11:48:36.001224Z",
          "iopub.execute_input": "2021-11-01T11:48:36.001545Z",
          "iopub.status.idle": "2021-11-01T11:48:36.033754Z",
          "shell.execute_reply.started": "2021-11-01T11:48:36.001511Z",
          "shell.execute_reply": "2021-11-01T11:48:36.033055Z"
        },
        "trusted": true,
        "id": "24U5PLwmAcO5",
        "outputId": "19b475ff-bfd5-4094-83bc-3601ea1c5ec8",
        "colab": {
          "base_uri": "https://localhost:8080/",
          "height": 235
        }
      },
      "execution_count": 42,
      "outputs": [
        {
          "output_type": "error",
          "ename": "NameError",
          "evalue": "ignored",
          "traceback": [
            "\u001b[0;31m---------------------------------------------------------------------------\u001b[0m",
            "\u001b[0;31mNameError\u001b[0m                                 Traceback (most recent call last)",
            "\u001b[0;32m<ipython-input-42-14396f5727e0>\u001b[0m in \u001b[0;36m<module>\u001b[0;34m\u001b[0m\n\u001b[1;32m      8\u001b[0m \u001b[0mauc\u001b[0m \u001b[0;34m=\u001b[0m \u001b[0;34m[\u001b[0m\u001b[0;34m]\u001b[0m\u001b[0;34m\u001b[0m\u001b[0;34m\u001b[0m\u001b[0m\n\u001b[1;32m      9\u001b[0m predictions = [knn_train_pred, lr_train_pred, lin_svm_train_pred, \n\u001b[0;32m---> 10\u001b[0;31m                rbf_svm_train_pred, dt_train_pred, rf_train_pred]\n\u001b[0m\u001b[1;32m     11\u001b[0m \u001b[0;34m\u001b[0m\u001b[0m\n\u001b[1;32m     12\u001b[0m \u001b[0;32mfor\u001b[0m \u001b[0mmodel_pred\u001b[0m \u001b[0;32min\u001b[0m \u001b[0mpredictions\u001b[0m\u001b[0;34m:\u001b[0m\u001b[0;34m\u001b[0m\u001b[0;34m\u001b[0m\u001b[0m\n",
            "\u001b[0;31mNameError\u001b[0m: name 'dt_train_pred' is not defined"
          ]
        }
      ]
    },
    {
      "cell_type": "code",
      "source": [
        "with plt.style.context('ggplot'):\n",
        "    plt.figure(figsize=(10, 5))\n",
        "    plt.bar(models, accuracy, color=model_colors)\n",
        "    for m, a in zip(models, accuracy):\n",
        "        plt.text(m, a+0.01 , f'{round(a*100, 3)}%', ha='center')\n",
        "    plt.xlabel('Models')\n",
        "    plt.ylabel('Accuracy percentage (%)')\n",
        "    plt.title('Model comparison on training data using Accuracy')\n",
        "    plt.show()"
      ],
      "metadata": {
        "execution": {
          "iopub.status.busy": "2021-11-01T11:48:40.077649Z",
          "iopub.execute_input": "2021-11-01T11:48:40.077911Z",
          "iopub.status.idle": "2021-11-01T11:48:40.315805Z",
          "shell.execute_reply.started": "2021-11-01T11:48:40.077881Z",
          "shell.execute_reply": "2021-11-01T11:48:40.3146Z"
        },
        "trusted": true,
        "id": "quUqEl80AcO6"
      },
      "execution_count": null,
      "outputs": []
    },
    {
      "cell_type": "code",
      "source": [
        "with plt.style.context('ggplot'):\n",
        "    plt.figure(figsize=(10, 5))\n",
        "    plt.bar(models, recall, color=model_colors)\n",
        "    for m, a in zip(models, recall):\n",
        "        plt.text(m, a+0.01 , f'{round(a*100, 3)}%', ha='center')\n",
        "    plt.xlabel('Models')\n",
        "    plt.ylabel('Recall percentage (%)')\n",
        "    plt.title('Model comparison on training data using Recall')\n",
        "    plt.show()"
      ],
      "metadata": {
        "execution": {
          "iopub.status.busy": "2021-11-01T11:48:44.920293Z",
          "iopub.execute_input": "2021-11-01T11:48:44.920843Z",
          "iopub.status.idle": "2021-11-01T11:48:45.132601Z",
          "shell.execute_reply.started": "2021-11-01T11:48:44.920804Z",
          "shell.execute_reply": "2021-11-01T11:48:45.13195Z"
        },
        "trusted": true,
        "id": "uNoQAbUhAcO6"
      },
      "execution_count": null,
      "outputs": []
    },
    {
      "cell_type": "code",
      "source": [
        "with plt.style.context('ggplot'):\n",
        "    plt.figure(figsize=(10, 5))\n",
        "    plt.bar(models, precision, color=model_colors)\n",
        "    for m, a in zip(models, precision):\n",
        "        plt.text(m, a+0.01 , f'{round(a*100, 3)}%', ha='center')\n",
        "    plt.xlabel('Models')\n",
        "    plt.ylabel('Precision percentage (%)')\n",
        "    plt.title('Model comparison on training data using Precision')\n",
        "    plt.show()"
      ],
      "metadata": {
        "execution": {
          "iopub.status.busy": "2021-11-01T11:48:48.683848Z",
          "iopub.execute_input": "2021-11-01T11:48:48.684126Z",
          "iopub.status.idle": "2021-11-01T11:48:48.89655Z",
          "shell.execute_reply.started": "2021-11-01T11:48:48.684073Z",
          "shell.execute_reply": "2021-11-01T11:48:48.89586Z"
        },
        "trusted": true,
        "id": "UhIJSarAAcO6"
      },
      "execution_count": null,
      "outputs": []
    },
    {
      "cell_type": "code",
      "source": [
        "with plt.style.context('ggplot'):\n",
        "    plt.figure(figsize=(10, 5))\n",
        "    plt.bar(models, f1, color=model_colors)\n",
        "    for m, a in zip(models, f1):\n",
        "        plt.text(m, a+0.01 , f'{round(a*100, 3)}%', ha='center')\n",
        "    plt.xlabel('Models')\n",
        "    plt.ylabel('F1 percentage (%)')\n",
        "    plt.title('Model comparison on training data using F1 score')\n",
        "    plt.show()"
      ],
      "metadata": {
        "execution": {
          "iopub.status.busy": "2021-11-01T11:48:52.479021Z",
          "iopub.execute_input": "2021-11-01T11:48:52.479717Z",
          "iopub.status.idle": "2021-11-01T11:48:52.696514Z",
          "shell.execute_reply.started": "2021-11-01T11:48:52.479677Z",
          "shell.execute_reply": "2021-11-01T11:48:52.695805Z"
        },
        "trusted": true,
        "id": "-oOyvUreAcO6"
      },
      "execution_count": null,
      "outputs": []
    },
    {
      "cell_type": "code",
      "source": [
        "with plt.style.context('ggplot'):\n",
        "    plt.figure(figsize=(10, 5))\n",
        "    plt.bar(models, auc, color=model_colors)\n",
        "    for m, a in zip(models, auc):\n",
        "        plt.text(m, a+0.01 , round(a, 3), ha='center')\n",
        "    plt.xlabel('Models')\n",
        "    plt.ylabel('AUC')\n",
        "    plt.title('Model comparison on training data using AUC')\n",
        "    plt.show()"
      ],
      "metadata": {
        "execution": {
          "iopub.status.busy": "2021-11-01T11:48:57.972021Z",
          "iopub.execute_input": "2021-11-01T11:48:57.972612Z",
          "iopub.status.idle": "2021-11-01T11:48:58.189609Z",
          "shell.execute_reply.started": "2021-11-01T11:48:57.972566Z",
          "shell.execute_reply": "2021-11-01T11:48:58.188937Z"
        },
        "trusted": true,
        "id": "ZpvbtBBKAcO7"
      },
      "execution_count": null,
      "outputs": []
    },
    {
      "cell_type": "markdown",
      "source": [
        "# 6. Prediksi pada Data Uji"
      ],
      "metadata": {
        "id": "K1hbMcTtAcO7"
      }
    },
    {
      "cell_type": "code",
      "source": [
        "best_models = [knn_cv, lr_cv, lin_svm_cv, rbf_svm_cv, dt_cv, rf_cv]\n",
        "for name, model in zip(models, best_models):\n",
        "    best_predictions = model.predict(X_test)\n",
        "    print(name.upper())\n",
        "    print(classification_report(y_test, best_predictions))\n",
        "    print(\"-------------------------------------------------------------\")"
      ],
      "metadata": {
        "execution": {
          "iopub.status.busy": "2021-11-01T11:49:01.695644Z",
          "iopub.execute_input": "2021-11-01T11:49:01.696294Z",
          "iopub.status.idle": "2021-11-01T11:49:01.937145Z",
          "shell.execute_reply.started": "2021-11-01T11:49:01.696255Z",
          "shell.execute_reply": "2021-11-01T11:49:01.93644Z"
        },
        "trusted": true,
        "id": "t0TilnoaAcO7"
      },
      "execution_count": null,
      "outputs": []
    },
    {
      "cell_type": "markdown",
      "source": [
        "## Perbandingan model pada data uji menggunakan Kurva ROC\n",
        "\n",
        "- kurva ROC, memplot tingkat positif sejati (nama lain untuk penarikan) terhadap tingkat positif palsu (FPR).\n",
        "- Sekali lagi ada trade-off: semakin tinggi recall (TPR), semakin banyak false positive (FPR) yang dihasilkan classifier. Garis putus-putus mewakili kurva ROC dari pengklasifikasi acak murni; pengklasifikasi yang baik tetap sejauh mungkin dari garis itu\n",
        "- Salah satu cara untuk membandingkan pengklasifikasi adalah dengan mengukur area di bawah kurva (AUC). Pengklasifikasi sempurna akan memiliki ROC AUC sama dengan 1, sedangkan pengklasifikasi acak murni akan memiliki ROC AUC sama dengan 0,5.\n",
        "- Hutan acak memiliki AUC tertinggi. "
      ],
      "metadata": {
        "id": "qGyUfLyxAcO7"
      }
    },
    {
      "cell_type": "code",
      "source": [
        "best_models = [knn_cv, lr_cv, lin_svm_cv, rbf_svm_cv, dt_cv, rf_cv]\n",
        "with plt.style.context('ggplot'):\n",
        "    plt.figure(figsize=(10, 5))\n",
        "    for name, model in zip(models, best_models):\n",
        "        best_predictions = model.predict(X_test)\n",
        "        fpr, tpr, thresholds = roc_curve(y_test, best_predictions)\n",
        "        plt.plot(fpr, tpr, linewidth=2, label=name)\n",
        "        plt.plot([0, 1], [0, 1], 'k--') \n",
        "    plt.xlabel('False Positive Rate')\n",
        "    plt.ylabel('True Positive Rate (Reccll)')\n",
        "    plt.legend()\n",
        "    plt.show()"
      ],
      "metadata": {
        "execution": {
          "iopub.status.busy": "2021-11-01T11:49:26.221737Z",
          "iopub.execute_input": "2021-11-01T11:49:26.222502Z",
          "iopub.status.idle": "2021-11-01T11:49:26.688289Z",
          "shell.execute_reply.started": "2021-11-01T11:49:26.222452Z",
          "shell.execute_reply": "2021-11-01T11:49:26.687601Z"
        },
        "trusted": true,
        "id": "UjrQAhCBAcO8"
      },
      "execution_count": null,
      "outputs": []
    },
    {
      "cell_type": "markdown",
      "source": [
        "# Kesimpulan\n",
        "\n",
        "Model yang terbaik untuk melakukan klasifikasi untuk dataset ini adalah KNN.\n",
        "\n"
      ],
      "metadata": {
        "id": "RDd63ZV4AcO8"
      }
    }
  ]
}